{
 "cells": [
  {
   "cell_type": "markdown",
   "metadata": {},
   "source": [
    "# Mise en place d'un indice de fragilité numérique à Orléans métropole\n",
    "\n",
    "*Julie Neury-Ormanni (2020)*\n"
   ]
  },
  {
   "cell_type": "markdown",
   "metadata": {},
   "source": [
    "  ## Sommaire <a class=\"anchor\" id=\"sommaire\"></a>\n",
    "  ## [Import des librairies](#3) <a class=\"anchor\" id=\"sommaire\"></a>\n",
    "  ## [Préparation des données](#4) <a class=\"anchor\" id=\"sommaire\"></a>\n",
    "  ### [Collecte et extraction à partir des données brutes](#5) <a class=\"anchor\" id=\"sommaire\"></a>\n",
    "  #### [*Données de recensement brutes*](#6) <a class=\"anchor\" id=\"sommaire\"></a>\n",
    "  #### [*Données des bénéficiaires des droits sociaux*](#7) <a class=\"anchor\" id=\"sommaire\"></a>\n",
    "  #### [*Données géographiques des Iris de France (code commune, libellés communes et iris, aire géographique)*](#8) <a class=\"anchor\" id=\"sommaire\"></a>\n",
    "  ### [Transformation des données pour l'exploitation](#9) <a class=\"anchor\" id=\"sommaire\"></a>\n",
    "  #### [*Données de recensement des cantons où sont situées les 22 communes d'Orléans métropole:*](#10) <a class=\"anchor\" id=\"sommaire\"></a>\n",
    "  #### [*Données sur les différents point de mutualisation de la fibre sur Orléans métropole*](#11) <a class=\"anchor\" id=\"sommaire\"></a>\n",
    "  #### [*Données sur la géolocalisation des antennes 2G, 3G et 4G sur Orléans métropole*](#12) <a class=\"anchor\" id=\"sommaire\"></a>\n",
    "  #### [*Données de recensement des équipements sur Orléans métropole*](#13) <a class=\"anchor\" id=\"sommaire\"></a>\n",
    "  ## [Calcul des indices de fragilité numérique](#14) <a class=\"anchor\" id=\"sommaire\"></a>\n",
    "  ### [Regroupement des jeux de données](#15) <a class=\"anchor\" id=\"sommaire\"></a>\n",
    "  ### [Les étapes du calcul](#16) <a class=\"anchor\" id=\"sommaire\"></a>"
   ]
  },
  {
   "cell_type": "markdown",
   "metadata": {},
   "source": [
    "*opendatasoft (https://data.orleans-metropole.fr/pages/home/)*"
   ]
  },
  {
   "cell_type": "markdown",
   "metadata": {},
   "source": [
    "Les données énumérées et décrites dans le tableau ci-dessus sont disponibles sur la plateforme Open Data Orléans Métropole (https://data.orleans-metropole.fr/pages/home/). Tous ces indicateurs ont été regroupés sur un seul jeu de données (Données pour le calcul d'indicateur de fragilité numérique), téléchargeable en .csv sur la plateforme et l'API. Les jointures ont été établies sur les Iris lorsque c'était possible ou grâce aux coordonnées géographique (processeur: Récupérer les divisions administratives). Les données nécessaires ont été sélectionnées via Python afin de vérifier les doublons et d'homogénéiser les codes utilisés (notamment ceux des Iris qui n'étaient pas notés de la même manière d'un jeu de donnée à l'autre)."
   ]
  },
  {
   "cell_type": "markdown",
   "metadata": {},
   "source": [
    "## [Import des librairies](#sommaire)<a class=\"anchor\" id=\"3\"></a>"
   ]
  },
  {
   "cell_type": "markdown",
   "metadata": {},
   "source": [
    "La librairie pandas a été utilisée pour l'import, les extractions et le nettoyage des données. La librairie numpy a été utilisé pour faciliter la gestion de certaines tables."
   ]
  },
  {
   "cell_type": "code",
   "execution_count": null,
   "metadata": {},
   "outputs": [],
   "source": [
    "import pandas as pd"
   ]
  },
  {
   "cell_type": "code",
   "execution_count": null,
   "metadata": {},
   "outputs": [],
   "source": [
    "import numpy as np"
   ]
  },
  {
   "cell_type": "markdown",
   "metadata": {},
   "source": [
    "## [Préparation des données](#sommaire)<a class=\"anchor\" id=\"4\"></a>"
   ]
  },
  {
   "cell_type": "markdown",
   "metadata": {},
   "source": [
    "Les jeu de données sont récupérés sur les différentes plateformes des données publics, ajouter à https://data.orleans-metropole.fr/pages/home/ et extraites en.csv à partir de la plateforme ou directement depuis l'API. Certains jeux de données ont été enregistrés sur un disque local pour les divers traitements."
   ]
  },
  {
   "cell_type": "markdown",
   "metadata": {},
   "source": [
    "Pour faciliter la lecture, les mots clés 'chemin d'accès' seront utilisés dans la formules de code pour les jeux de données qui ont été enregistrés sur le disque local."
   ]
  },
  {
   "cell_type": "markdown",
   "metadata": {},
   "source": [
    "### [Collecte et extraction à partir des données brutes](#sommaire)<a class=\"anchor\" id=\"5\"></a>"
   ]
  },
  {
   "cell_type": "markdown",
   "metadata": {},
   "source": [
    "#### [*Données de recensement brutes*](#sommaire)<a class=\"anchor\" id=\"6\"></a>"
   ]
  },
  {
   "cell_type": "markdown",
   "metadata": {},
   "source": [
    "A partir des données brutes de recensement,un premier nettoyage a été effectué en ne sélectionnant que les cantons où sont situées les 22 communes d'Orléans. Ces données ont ensuite été converties en .csv pour être publiées sur Open Data Orléans Métropole et traitées par la suite (Recensement 2017: Individus localisés au canton des communes d'Orléans Métropole).\n",
    "**Le recensement repose sur une collecte d’informations annuelle,concernant successivement toutes  les communes au cours d’une période de cinq ans. Les communes de moins de 10 000 habitants réalisent une enquête de recensement portant sur toute leur population une fois tous les cinq ans. Les communes de plus de 10 000 habitants tiennent à jour un répertoire exhaustif de logements et font tous les ans une enquête par sondage auprès d’un échantillon représentant 8 % de leurs logements.En cumulant cinq enquêtes, l'ensemble des habitants des communes de moins de 10 000 habitants et 40 % environ de la population des communes de 10 000 habitants ou plus sont pris en compte.**\n",
    "En 2017, seules 17 communes ont pu être utilisé pour cette étude de fragilité. Les communes non irisées possédant la nomenclature 'ZZZZZZZZZ', il n' a pas été possible de les identifier."
   ]
  },
  {
   "cell_type": "code",
   "execution_count": null,
   "metadata": {},
   "outputs": [],
   "source": [
    "RP = pd.read_csv(r\"chemin d'accès\\FD_INDCVIZB_2017.csv\", delimiter = ';')\n",
    "RPinsee_canton = RP[(RP['CANTVILLE'] == 4505)|(RP['CANTVILLE'] == 4506) |(RP['CANTVILLE'] == 4512) |(RP['CANTVILLE'] == 4515) |(RP['CANTVILLE'] == 4518) |(RP['CANTVILLE'] == 4519) |(RP['CANTVILLE'] == 4520) |(RP['CANTVILLE'] == 4599)]\n",
    "RPinsee_canton.to_csv (r\"chemin d'accès\\RPinsee_canton.csv\", index = False, header=True)"
   ]
  },
  {
   "cell_type": "markdown",
   "metadata": {},
   "source": [
    "#### [*Données des bénéficiaires des droits sociaux*](#sommaire)<a class=\"anchor\" id=\"7\"></a>"
   ]
  },
  {
   "cell_type": "markdown",
   "metadata": {},
   "source": [
    "A partir des données brutes,un premier nettoyage a été effectué en ne sélectionnant que les 22 communes d'Orléans métropole. Ces données ont ensuite été converties en .csv pour être publiées sur Open Data Orléans Métropole et traitées par la suite(Bénéficiaires des prestations légales versées par les CAF au 31/12/2018_Orléans métropole).\n",
    "\n",
    "Clé primaire:Iris (CODGEO)\n"
   ]
  },
  {
   "cell_type": "code",
   "execution_count": null,
   "metadata": {},
   "outputs": [],
   "source": [
    "CAF = pd.read_csv(r\"chemin d'accès\\data_CAF2018_iris.csv\", delimiter = ';')\n",
    "CAF_orleans_metro = CAF[(CAF['DEPCOM'] == '45034')|(CAF['DEPCOM'] == '45043')|(CAF['DEPCOM'] == '45072')|(CAF['DEPCOM'] == '45075')|(CAF['DEPCOM'] == '45089')|(CAF['DEPCOM'] == '45100')|(CAF['DEPCOM'] == '45147')|(CAF['DEPCOM'] == '45169')|(CAF['DEPCOM'] == '45194')|(CAF['DEPCOM'] == '45197')|(CAF['DEPCOM'] == '45232')|(CAF['DEPCOM'] == '45234')|(CAF['DEPCOM'] == '45235')|(CAF['DEPCOM'] == '45272')|(CAF['DEPCOM'] == '45274')|(CAF['DEPCOM'] == '45282')|(CAF['DEPCOM'] == '45284')|(CAF['DEPCOM'] == '45285')|(CAF['DEPCOM'] == '45286')|(CAF['DEPCOM'] == '45298')|(CAF['DEPCOM'] == '45302')|(CAF['DEPCOM'] == '45308')]\n",
    "CAF_orleans_metro.to_csv (r\"chemin d'accès\\CAF_orleans_metro.csv\", index = False, header=True)"
   ]
  },
  {
   "cell_type": "markdown",
   "metadata": {},
   "source": [
    "#### [*Données géographiques des Iris de France (code commune, libellés communes et iris, aire géographique)*](#sommaire)<a class=\"anchor\" id=\"8\"></a>"
   ]
  },
  {
   "cell_type": "markdown",
   "metadata": {},
   "source": [
    "Cette table servira principalement à lier les communes et les iris pour les jeu de données ne contenant pas l'information Iris. Les jointures géographiques seront effectuées directement sur Open Data Orléans Métropole avec le processeur 'jointure géographique' sur les iris 2019. Seuls les Iris des 22 communes d'Orléans ont été sélectionnées. Ce jeu de données a été publié sur Open Data Orléans Métropole (Table de référence des IRIS 2020 - Orléans Métropole).\n",
    "\n",
    "Clé primaire: Iris (CODE_IRIS) et Commune (DEPCOM)"
   ]
  },
  {
   "cell_type": "code",
   "execution_count": null,
   "metadata": {},
   "outputs": [],
   "source": [
    "iris = pd.read_excel(r\"chemin d'accès\\reference_IRIS_geo2020_modif.xlsx\")\n",
    "iris_om = iris[(iris['DEPCOM'] == '45034')|(iris['DEPCOM'] == '45043')|(iris['DEPCOM'] == '45072')|(iris['DEPCOM'] == '45075')|(iris['DEPCOM'] == '45089')|(iris['DEPCOM'] == '45100')|(iris['DEPCOM'] == '45147')|(iris['DEPCOM'] == '45169')|(iris['DEPCOM'] == '45194')|(iris['DEPCOM'] == '45197')|(iris['DEPCOM'] == '45232')|(iris['DEPCOM'] == '45234')|(iris['DEPCOM'] == '45235')|(iris['DEPCOM'] == '45272')|(iris['DEPCOM'] == '45274')|(iris['DEPCOM'] == '45282')|(iris['DEPCOM'] == '45284')|(iris['DEPCOM'] == '45285')|(iris['DEPCOM'] == '45286')|(iris['DEPCOM'] == '45298')|(iris['DEPCOM'] == '45302')|(iris['DEPCOM'] == '45308')]\n",
    "iris_om.to_csv (r\"chemin d'accès\\reference_iris_om.csv\", index = False, header=True)"
   ]
  },
  {
   "cell_type": "markdown",
   "metadata": {},
   "source": [
    "### [Transformation des données pour l'exploitation](#sommaire)<a class=\"anchor\" id=\"9\"></a>"
   ]
  },
  {
   "cell_type": "markdown",
   "metadata": {},
   "source": [
    "#### [*Données de recensement des cantons où sont situées les 22 communes d'Orléans métropole:*](#sommaire)<a class=\"anchor\" id=\"10\"></a>"
   ]
  },
  {
   "cell_type": "markdown",
   "metadata": {},
   "source": [
    "Le jeu de donnée ici importé est issu des extractions réalisées ci-dessus à partir des données de recensement brutes. Plusieurs indicateurs vont être calculés.\n",
    "\n",
    "Clé primaire: Canton (CANTVILLE) et Iris (IRIS)"
   ]
  },
  {
   "cell_type": "markdown",
   "metadata": {},
   "source": [
    "* **Import du jeu de donnée**"
   ]
  },
  {
   "cell_type": "code",
   "execution_count": null,
   "metadata": {},
   "outputs": [],
   "source": [
    "#RPinsee = pd.read_csv(r\"C:\\Users\\neury\\Documents\\Python\\sorties\\RPinsee_canton_17.csv\", delimiter = ',')\n",
    "RPinsee = pd.read_csv(\"https://data.orleans-metropole.fr/api/v2/catalog/datasets/recensement-individu-localise-au-canton-des-communes-dorleans-metropole-2017/exports/csv?limit=-1&select=*&timezone=UTC&delimiter=%3B&apikey=10c35d0b43b07cd01107198942a6db6f77c6cb338cdbd6b4c3f2d56d\", delimiter=';')"
   ]
  },
  {
   "cell_type": "markdown",
   "metadata": {},
   "source": [
    "* **Nettoyage des données**\n",
    "\n",
    "Afin d'homogénéiser les codes des iris les codes marqués 'ZZZZZZZZZ' concernant les communes non irisées ont été remplacés par les codes iris référencés dans la table de référence des Iris, à l'aide la fonction suivante:"
   ]
  },
  {
   "cell_type": "code",
   "execution_count": null,
   "metadata": {},
   "outputs": [],
   "source": [
    "moncarac='ZZZZZZZZZ'\n",
    "def myfunc(x,y,replacechar):\n",
    "    if x == 4505 and y == replacechar:\n",
    "        return '452720000'\n",
    "    elif x ==4506 and y == replacechar:\n",
    "        return '451970000'\n",
    "    elif x ==4512 and y == replacechar:\n",
    "        return '452820000'\n",
    "    elif x ==4515 and y == replacechar:\n",
    "        return '452350000'\n",
    "    elif x ==4518 and y ==replacechar:\n",
    "        return '453080000'\n",
    "    elif x == 4599 and y == '45234XXXX':\n",
    "        return '452342104'\n",
    "    elif x == 4518 and y == '45284XXXX':\n",
    "        return '452840304'\n",
    "    else:\n",
    "        return y\n",
    "\n",
    "RPinsee['iris'] = RPinsee.apply(lambda x: myfunc(x.cantville, x.iris, moncarac), axis=1)"
   ]
  },
  {
   "cell_type": "markdown",
   "metadata": {},
   "source": [
    "Les autres communes non irisées ne faisant pas partie des communes d'Orléans métropole ou ne pouvant être identifiées ont été supprimées:"
   ]
  },
  {
   "cell_type": "code",
   "execution_count": null,
   "metadata": {},
   "outputs": [],
   "source": [
    "RPinsee.drop(RPinsee[RPinsee['iris']=='ZZZZZZZZZ'].index, inplace = True)"
   ]
  },
  {
   "cell_type": "markdown",
   "metadata": {},
   "source": [
    "On scinde le code des iris pour retrouver les communes auxquels ils appartiennent. Et on place ce résultat dans la colonne 'depcom' (code insee des communes)."
   ]
  },
  {
   "cell_type": "code",
   "execution_count": null,
   "metadata": {},
   "outputs": [],
   "source": [
    "RPinsee['depcom'] = RPinsee['iris'].str.slice(stop=5)"
   ]
  },
  {
   "cell_type": "markdown",
   "metadata": {},
   "source": [
    "* **Création du dataframe et calculs**"
   ]
  },
  {
   "cell_type": "markdown",
   "metadata": {},
   "source": [
    "Le dataframe qui va accueillir les données pour calculer les indicateurs a été créé à partir de la fonction '.groupby'.  Cette fonction groupe les données à partir des index choisis (ici un multiindex canton et commune). La fonction '.count()' indique que l'on souhaite obtenir le nombre de cellules à valeur non-nulle respectant les conditions renseignées."
   ]
  },
  {
   "cell_type": "code",
   "execution_count": null,
   "metadata": {},
   "outputs": [],
   "source": [
    "mycolumns = ['cantville','nummi','aged','dipl','empl','etud','immi','infam','inper','inperf','iris','nperr','sfm','tact','typfc', 'depcom']\n",
    "RPinsee_tmt = RPinsee[mycolumns]\n",
    "table = RPinsee_tmt.groupby(['cantville','depcom','iris']).count()\n",
    "#Garder la première colonne et la renommer car elle indique la population légale totale\n",
    "table.rename(columns={'nummi':'POPLEG'}, inplace = True)\n",
    "#Effacer le reste des colonnes\n",
    "table.drop(['aged','dipl','empl','etud','immi','infam','inper','inperf','nperr','sfm','tact','typfc'],axis = 'columns', inplace = True)"
   ]
  },
  {
   "cell_type": "markdown",
   "metadata": {},
   "source": [
    "Ci-après, le code permettant d'ajouter les colonnes qui correspondent aux données recherchées. On compte pour chaque Iris le nombres de personnes correspondant aux conditions."
   ]
  },
  {
   "cell_type": "code",
   "execution_count": null,
   "metadata": {},
   "outputs": [],
   "source": [
    "# Le nombre de personnes âgées de plus de 65 ans:\n",
    "table['NB65+'] =RPinsee_tmt[RPinsee_tmt['aged'] > 65].groupby(['cantville','depcom','iris'])['aged'].count()\n",
    "# Le nombre de personnes âgées de 15 à 29 ans:\n",
    "table['NB15_29'] = RPinsee_tmt[(RPinsee_tmt ['aged']>15) & (RPinsee_tmt['aged'] < 30)].groupby(['cantville','depcom','iris'])['aged'].count()\n",
    "# Le nombre de personnes vivant en famille monoparentale:\n",
    "table['NBMONOFAM'] = RPinsee_tmt[(RPinsee_tmt ['sfm']== '21') | (RPinsee_tmt['sfm']== '22')| (RPinsee_tmt ['sfm']== '40')].groupby(['cantville','depcom','iris'])['aged'].count()\n",
    "# Le nombre de personnes vivant dans un ménage d'une personne:\n",
    "table['NBMEN1P'] = RPinsee_tmt[(RPinsee_tmt ['nperr']== '1')].groupby(['cantville','depcom','iris'])['nperr'].count()\n",
    "# Le nombre de personnes de plus de 15 ans, non scolarisées, non ou peu diplômées:\n",
    "table['NB15NSCONDIPL'] = RPinsee_tmt[(RPinsee_tmt['aged'] >15)&(RPinsee_tmt['etud']==2)&((RPinsee_tmt['dipl']=='01')|(RPinsee_tmt['dipl']=='02')|(RPinsee_tmt['dipl']=='03')|(RPinsee_tmt['dipl']=='11')|(RPinsee_tmt['dipl']=='12'))].groupby(['cantville','depcom','iris'])['aged'].count()\n",
    "# Le nombre de personnes entre 15 et 64 ans au chômage:\n",
    "table['NBCHOM15_64'] = RPinsee_tmt[(RPinsee_tmt['aged'] >15)&(RPinsee_tmt['aged']<65)&(RPinsee_tmt['tact']==12)].groupby(['cantville','depcom','iris'])['aged'].count()\n",
    "# Le nombre de personnes immigrées:\n",
    "table['NBIMMI'] = RPinsee_tmt[(RPinsee_tmt['immi'] == 1)].groupby(['cantville','depcom','iris'])['aged'].count()"
   ]
  },
  {
   "cell_type": "markdown",
   "metadata": {},
   "source": [
    "Pour le nombre de ménage total d'un Iris, on effectue un '.nunique()' sur les numéros d'anonymisation des logements, qui correspond au nombre de valeurs différentes (pour chaque Iris)."
   ]
  },
  {
   "cell_type": "code",
   "execution_count": null,
   "metadata": {},
   "outputs": [],
   "source": [
    "# Le nombre de ménages total d'un Iris:\n",
    "table[\"NBMENTOT\"] = RPinsee_tmt.groupby(['cantville','depcom','iris'])['nummi'].nunique()"
   ]
  },
  {
   "cell_type": "markdown",
   "metadata": {},
   "source": [
    "Pour calculer la part de population qui correspond aux critères, il suffit de diviser par la population légale totale. Le code ci-dessous permet d'automatiser l'alimentation des colonnes à partir d'une simple division par la colonne 'POPLEG'."
   ]
  },
  {
   "cell_type": "code",
   "execution_count": null,
   "metadata": {},
   "outputs": [],
   "source": [
    "listcol = ['NBMONOFAM','NB15_29','NB65+','NBIMMI','NBMEN1P','NBCHOM15_64','NB15NSCONDIPL']\n",
    "for l in listcol:\n",
    "    newcol = \"Part\" + l \n",
    "    table[newcol] = table[l]/table['POPLEG']"
   ]
  },
  {
   "cell_type": "markdown",
   "metadata": {},
   "source": [
    "* **Export**"
   ]
  },
  {
   "cell_type": "markdown",
   "metadata": {},
   "source": [
    "Une fois ces calculs effectués, le dataframe est exporté en format .csv et publié sur Open Data Orléans Métropole('Informations 2017 (âge de population, chômage, immigration) sur la population d'Orléans métropole pour déterminer un indice de fragilité numérique par IRIS (données traitées de RP 2017)')."
   ]
  },
  {
   "cell_type": "code",
   "execution_count": null,
   "metadata": {},
   "outputs": [],
   "source": [
    "table.to_csv (r\"chemin d'accès\\population_canton_iris_RPinsee2017.csv\", index = True, header=True)"
   ]
  },
  {
   "cell_type": "markdown",
   "metadata": {},
   "source": [
    "#### [*Données sur les différents point de mutualisation de la fibre sur Orléans métropole*](#sommaire)<a class=\"anchor\" id=\"11\"></a>"
   ]
  },
  {
   "cell_type": "markdown",
   "metadata": {},
   "source": [
    "Cette table va permettre de récupérer le taux de logement raccordable moyen par commune, en récupérant le nombre de logement par commune et le nombre de logement raccordables à la fibre par commune.\n",
    "Clé primaire: Commune (Code INSEE)"
   ]
  },
  {
   "cell_type": "markdown",
   "metadata": {},
   "source": [
    "* **Import des jeux de donnée**"
   ]
  },
  {
   "cell_type": "markdown",
   "metadata": {},
   "source": [
    "Le jeu de données sur le déploiement de la fibre a été filtré sur les 22 communes d'Orléans via la plateforme Open Data Soft et enregistrés sur le disque local. Le jeu de données sur le nombre de logement par commune a été récupéré sur le site d el'insee et mis en ligne sur la plateforme Open Data Soft puis enregistré sur le disque local."
   ]
  },
  {
   "cell_type": "code",
   "execution_count": null,
   "metadata": {},
   "outputs": [],
   "source": [
    "ftth = pd.read_csv(r\"chemin d'accès\\deploiement-du-haut-et-tres-haut-debit-fixe-par-point-de-mutualisation-orleans-2018.csv\", delimiter = ';')\n",
    "log = pd.read_csv(r\"chemin d'accès\\logement_com.csv\")"
   ]
  },
  {
   "cell_type": "code",
   "execution_count": null,
   "metadata": {},
   "outputs": [],
   "source": [
    "log = log.rename(columns = {'COM':'Code INSEE','P17_LOG':'NBLOG'})"
   ]
  },
  {
   "cell_type": "markdown",
   "metadata": {},
   "source": [
    "* **Création du dataframe et calculs**"
   ]
  },
  {
   "cell_type": "markdown",
   "metadata": {},
   "source": [
    "Le dataframe est créé à partir de la fonction '.groupby' sur les codes Insee des communes et la fonction '.sum()' qui additionne les valeurs de la même condition commune."
   ]
  },
  {
   "cell_type": "code",
   "execution_count": null,
   "metadata": {
    "scrolled": true
   },
   "outputs": [],
   "source": [
    "table = ftth.groupby(['Code INSEE'])['Logements raccordables','Commune'].sum()"
   ]
  },
  {
   "cell_type": "markdown",
   "metadata": {},
   "source": [
    "Le nombre total de logement par commune est joint à la table groupant le nombre total de logement raccordable à la fibre par commune. Cette jointure permet de calculer la proportion de logement raccordable à la fibre par commune."
   ]
  },
  {
   "cell_type": "code",
   "execution_count": null,
   "metadata": {},
   "outputs": [],
   "source": [
    "ftth_com = table.merge(log, on=['Code INSEE'])"
   ]
  },
  {
   "cell_type": "code",
   "execution_count": null,
   "metadata": {},
   "outputs": [],
   "source": [
    "ftth_com['Logements raccordables / commune']= ftth_com['Logements raccordables']/ftth_com['NBLOG']"
   ]
  },
  {
   "cell_type": "markdown",
   "metadata": {},
   "source": [
    "Pour les proportions de logement qui dépassent les 100%, les valeurs sont ramenées au maximum 100%. Cette erreur est due à la différence des années des données. Le nombre de logement par commune date de 2017, le nombre de logement raccordable par commune date de 2018. Les données de logements raccordables les plus récentes possibles ont été jointes sans prendre les données les plus récentes qui datent de 2020 pour éviter un trop grand écart entre les années des données. Cependant, il y a une trop forte extension entre le déploiement de lfibre de 2017 et 2018 pour pouvoir prendre en compte les données de 2017 sur la fibre, beaucoup trop obsolète."
   ]
  },
  {
   "cell_type": "code",
   "execution_count": null,
   "metadata": {},
   "outputs": [],
   "source": [
    "a = np.array(ftth_com['Logements raccordables / commune'].values.tolist())"
   ]
  },
  {
   "cell_type": "code",
   "execution_count": null,
   "metadata": {},
   "outputs": [],
   "source": [
    "ftth_com['Logements raccordables / commune'] = np.where(a > 0.9999, 1.0, a).tolist()"
   ]
  },
  {
   "cell_type": "markdown",
   "metadata": {},
   "source": [
    "* **Export**"
   ]
  },
  {
   "cell_type": "markdown",
   "metadata": {},
   "source": [
    "Une fois ces calculs effectués, le dataframe est exporté en format .csv et publié sur Open Data Orléans Métropole(Taux de logement raccordables à la fibre par commune_Orléans métropole)."
   ]
  },
  {
   "cell_type": "code",
   "execution_count": null,
   "metadata": {},
   "outputs": [],
   "source": [
    "ftth_com.to_csv(r\"chemin d'accès\\deploiement_ftth_om.csv\")"
   ]
  },
  {
   "cell_type": "markdown",
   "metadata": {},
   "source": [
    "#### [*Données sur la géolocalisation des antennes 2G, 3G et 4G sur Orléans métropole*](#sommaire)<a class=\"anchor\" id=\"12\"></a>"
   ]
  },
  {
   "cell_type": "markdown",
   "metadata": {},
   "source": [
    "A partir des données récupérées sur monresaumobile (ARCEP), ce jeu de données a été préalablement filtré sur les 22 communes d'Orléans puis le processeur de jointure géographique (récupérer les divisions administratives) sur open data soft a permis de récupérer les codes des iris à partir des coordonnées géographiques.\n",
    "A partir de l'API (V2 bêta),une aggrégation 'count()as' est réalisée (get /{source}/datasets/{dataset_id}/aggregate)pour calculer le nombre d'antenne par commune (group_by)\n",
    "\n",
    "Clé primaire: Iris (code_iris)\n",
    "\n",
    "Ce jeu de données est ensuite publié sur open data orléans métropole et sera mis à jour tous les mois."
   ]
  },
  {
   "cell_type": "markdown",
   "metadata": {},
   "source": [
    "#### [*Données de recensement des équipements sur Orléans métropole*](#sommaire)<a class=\"anchor\" id=\"13\"></a>"
   ]
  },
  {
   "cell_type": "markdown",
   "metadata": {},
   "source": [
    "Ces données contiennent seulement les équipements qui nous intéressent pour l'étude de fragilité (cf. tableau des indicateurs ci dessus). Les équipements sociaux manquants ont été rajoutés à partir des informations de TOPOS (bde2). Ces données vont permettre de calculer le nombre d'équipement par Iris. Les équipements sélectionnés pour l'étude de fragilité sont énumérés dans le tableau des indicateurs. Ils ont été choisis selon l'étude de MEDNUM.\n",
    "\n",
    "Clé primaire: Iris (IRIS)"
   ]
  },
  {
   "cell_type": "markdown",
   "metadata": {},
   "source": [
    "* **Import du jeu de donnée**"
   ]
  },
  {
   "cell_type": "code",
   "execution_count": null,
   "metadata": {},
   "outputs": [],
   "source": [
    "bde1=pd.read_csv(r\"chemin d'accès\\base-permanente-des-equipements-ensemble-geolocalisee-orleans-metropole_modif.csv\", delimiter=';')\n",
    "bde2=pd.read_excel(r\"chemin d'accès\\equipement sociaux manquants.xlsx\")"
   ]
  },
  {
   "cell_type": "markdown",
   "metadata": {},
   "source": [
    "* **Concaténation des dataframe et sélection des équipements**"
   ]
  },
  {
   "cell_type": "code",
   "execution_count": null,
   "metadata": {},
   "outputs": [],
   "source": [
    "bde = pd.concat([bde1, bde2])\n",
    "bde_om=bde[(bde['code_com']==45034)|(bde['code_com']==45043)|(bde['code_com']==45072)|(bde['code_com']==45075)|(bde['code_com']==45089)|(bde['code_com']==45100)|(bde['code_com']==45147)|(bde['code_com']==45169)|(bde['code_com']==45194)|(bde['code_com']==45197)|(bde['code_com']==45232)|(bde['code_com']==45234)|(bde['code_com']==45235)|(bde['code_com']==45272)|(bde['code_com']==45274)|(bde['code_com']==45282)|(bde['code_com']==45284)|(bde['code_com']==45285)|(bde['code_com']==45286)|(bde['code_com']==45298)|(bde['code_com']==45302)|(bde['code_com']==45308)]\n",
    "bde_frag = bde_om[(bde_om['description']=='Bibliothèque')|(bde_om['description']==\"Personnes âgées\\xa0: services d'aide\")|(bde_om['description']==\"Adultes handicapés\\xa0: services d'aide\")|(bde_om['description']==\"Autres établissements pour adultes et familles en difficulté\")|(bde_om['description']==\"DRFiP (Direction régionale des Finances publiques)\")|(bde_om['description']==\"Police\")|(bde_om['description']==\"Tribunal de commerce (TCO)\")|(bde_om['description']==\"Gendarmerie\")|(bde_om['description']==\"Conseil de prud'hommes (CPH)\")|(bde_om['description']==\"Cour d'appel (CA)\")|(bde_om['description']==\"Tribunal d'instance (TI)\")|(bde_om['description']==\"Réseau de proximité Pôle emploi\")|(bde_om['description']==\"Conseil départemental d'accès au droit (CDAD)\")|(bde_om['description']==\"GRETA\")|(bde_om['description']==\"Maison de justice et du droit\")|(bde_om['description']==\"Tribunal de grande instance (TGI)\")|(bde_om['description'] == 'Bureau de poste')|(bde_om['description'] == 'CAF')|(bde_om['description'] == 'Préfecture')|(bde_om['description'] == 'Mairie')]\n",
    "bde_frag = bde_frag.drop(columns = ['an','type','qualite_geocodage','nom_dep','nom_EPCI','nom_com','code_ISO',])"
   ]
  },
  {
   "cell_type": "markdown",
   "metadata": {},
   "source": [
    "* **Homogénéisation des codes Iris**"
   ]
  },
  {
   "cell_type": "markdown",
   "metadata": {},
   "source": [
    "Les codes Iris des communes non irisées correspondent aux codes Insee des communes, suivis de 0000 (Exemple: Saint Cyr en Val est une commune non irisée de code Insee '45272'. Ce code est repris pour le code Iris alors qu'il devrait être '452720000'. La fonction ci-dessous permet de le modifier avec la bonne nomenclature). Pour corriger les codes Iris des communes Iris, qui, dans ce document, n'ont pas été écrits selon la nomenclature précédente, mais remplacés par les codes des communes, la fonction suivante a été appliquée sur la colonne des Iris."
   ]
  },
  {
   "cell_type": "code",
   "execution_count": null,
   "metadata": {},
   "outputs": [],
   "source": [
    "def multiply(x):\n",
    "    if x < 1000000:\n",
    "        return x*10000\n",
    "    else:\n",
    "        return x\n",
    "bde_frag['IRIS'] = bde_frag.apply(lambda x: multiply(x.IRIS), axis=1)"
   ]
  },
  {
   "cell_type": "markdown",
   "metadata": {},
   "source": [
    "* **Création du dataframe et calculs**"
   ]
  },
  {
   "cell_type": "code",
   "execution_count": null,
   "metadata": {},
   "outputs": [],
   "source": [
    "table = bde_frag.groupby(['code_com','IRIS'])['categorie','REG'].count()\n",
    "table.drop(['REG'],'columns',inplace = True)\n",
    "table.rename(columns = {'categorie':'Nombre equipement'})"
   ]
  },
  {
   "cell_type": "markdown",
   "metadata": {},
   "source": [
    "* **Export**"
   ]
  },
  {
   "cell_type": "markdown",
   "metadata": {},
   "source": [
    "Le dataframe est exporté au format .csv et publié sur Open Data Orléans Métropole(Nombre d'équipements par IRIS_Orléans Métropole_fragilité numérique_2019)."
   ]
  },
  {
   "cell_type": "code",
   "execution_count": null,
   "metadata": {},
   "outputs": [],
   "source": [
    "table.to_csv (r\"chemin d'accès\\nombre_equipement_orleans_metropole_2019.csv\", index = True, header=True)"
   ]
  },
  {
   "cell_type": "markdown",
   "metadata": {},
   "source": [
    "## [Calcul des indices de fragilité numérique](#sommaire)<a class=\"anchor\" id=\"14\"></a>"
   ]
  },
  {
   "cell_type": "markdown",
   "metadata": {},
   "source": [
    "### [Regroupement des jeux de données](#sommaire)<a class=\"anchor\" id=\"15\"></a>"
   ]
  },
  {
   "cell_type": "markdown",
   "metadata": {},
   "source": [
    "Les jeux de données énumérés dans la parties précédentes ont été regroupés sous un seul jeu de données à l'aide des processeurs de jointure de Open Data Orléans Métropole. Seules 17 communes sur 22 sont renseignées pour l'année 2017 du fait du déroulement des recensements expliqué dans la partie **'Collecte et extraction à partir des données brutes'**."
   ]
  },
  {
   "cell_type": "markdown",
   "metadata": {},
   "source": [
    "* **Import du jeu de données**"
   ]
  },
  {
   "cell_type": "markdown",
   "metadata": {},
   "source": [
    "Le jeu de données est directement importé depuis la plateforme Open Data Orléans Métropole avec l'url ci-dessous."
   ]
  },
  {
   "cell_type": "code",
   "execution_count": null,
   "metadata": {},
   "outputs": [],
   "source": [
    "indic = pd.read_csv('https://data.orleans-metropole.fr/explore/dataset/donnees-calcul-indicateur-fragilite-numerique-orleans-metropole/download/?format=csv&timezone=Europe/Berlin&lang=fr&use_labels_for_header=true&csv_separator=%3B', delimiter = ';')"
   ]
  },
  {
   "cell_type": "markdown",
   "metadata": {},
   "source": [
    "* **Préparation des données**"
   ]
  },
  {
   "cell_type": "markdown",
   "metadata": {},
   "source": [
    "Pour faciliter les codes et éviter les apostrophes ou tout autre caractère qui viendrait déranger le code, les noms des colonnes 'à risque' sont renommées."
   ]
  },
  {
   "cell_type": "code",
   "execution_count": null,
   "metadata": {},
   "outputs": [],
   "source": [
    "indic = indic.rename(columns={\"Nombre d'antennes\":\"couverture_mobile\", 'Tx pauvreté':'Tx_pauvre', 'Logements raccordables / commune':'Taux logements raccordables'})"
   ]
  },
  {
   "cell_type": "markdown",
   "metadata": {},
   "source": [
    "Pour les équipements (antennes, services publics, fibres) et le nombre de personnes couverte par les minimas sociaux, les NaN sont remplacés par 0 car on estime que si la valeur est manquante, c'est qu'il n'y a pas d'équipement à cet endroit. Le remplacement est effectué à l'aide de la fonction suivante:"
   ]
  },
  {
   "cell_type": "code",
   "execution_count": null,
   "metadata": {},
   "outputs": [],
   "source": [
    "indic_na_zero = indic[[\"couverture_mobile\",'Taux logements raccordables','NBequip', 'PERCOU']]\n",
    "for l in indic_na_zero:\n",
    "    newcol = l + 'bis'\n",
    "    indic[newcol] = indic[l].fillna(0)"
   ]
  },
  {
   "cell_type": "markdown",
   "metadata": {},
   "source": [
    "Pour les autres variables (ex: taux de pauvreté), les valeurs manquantes sont remplacés par la moyenne des 17 communes (cf. MEDNUM qui avait remplacé par les moyennes régionales). Le remplacement est effectué à l'aide de la fonction suivante:"
   ]
  },
  {
   "cell_type": "code",
   "execution_count": null,
   "metadata": {},
   "outputs": [],
   "source": [
    "for i in indic.columns[indic.isnull().any(axis=0)]:\n",
    "    indic[i].fillna(indic[i].mean(),inplace=True)"
   ]
  },
  {
   "cell_type": "markdown",
   "metadata": {},
   "source": [
    "Le nombre d'équipement disponible par individu est calculé en divisant le nombre d'équipement disponible par IRIS par le nombre d'habitant de l'IRIS."
   ]
  },
  {
   "cell_type": "code",
   "execution_count": null,
   "metadata": {},
   "outputs": [],
   "source": [
    "indic['equip_ind']= indic['NBequipbis']/indic['POPLEG']"
   ]
  },
  {
   "cell_type": "markdown",
   "metadata": {},
   "source": [
    "Le nombre de personnes couvertes par les minimas sociaux est transformé en pourcentage de  la population de la commune. Pour cela une colonne du nombre d'habitant par commune est ajoutée."
   ]
  },
  {
   "cell_type": "code",
   "execution_count": null,
   "metadata": {},
   "outputs": [],
   "source": [
    "popcom = indic.groupby(['depcom'])['POPLEG', 'iris'].sum()"
   ]
  },
  {
   "cell_type": "code",
   "execution_count": null,
   "metadata": {},
   "outputs": [],
   "source": [
    "indic['taux_percou'] = indic['PERCOUbis']/indic['POPLEG']\n",
    "popcom = popcom.drop(columns = ['iris'])\n",
    "popcom = popcom.rename(columns={'POPLEG':'POPCOM'})"
   ]
  },
  {
   "cell_type": "code",
   "execution_count": null,
   "metadata": {},
   "outputs": [],
   "source": [
    "indic = indic.merge(popcom, how='inner', on='depcom')\n",
    "indic = indic.rename(columns={'POPCOM_y':'POPCOM'})"
   ]
  },
  {
   "cell_type": "code",
   "execution_count": null,
   "metadata": {},
   "outputs": [],
   "source": [
    "indic['taux_percou'] = indic['PERCOUbis']/indic['POPCOM']"
   ]
  },
  {
   "cell_type": "markdown",
   "metadata": {},
   "source": [
    "La couverture mobile est estimée par rapport à la présence d'au moins une antenne mobile sur la commune. Ainsi, seules des valeurs sont possibles pour cette variable: si il y a au moins une antenne, 100% sinon 0%."
   ]
  },
  {
   "cell_type": "code",
   "execution_count": null,
   "metadata": {},
   "outputs": [],
   "source": [
    "indic.loc[(indic.couverture_mobilebis > 0), 'couverture_mobilebis']=100"
   ]
  },
  {
   "cell_type": "markdown",
   "metadata": {},
   "source": [
    "La non couverture mobile est estimée à partir des résultats précédents de couverture."
   ]
  },
  {
   "cell_type": "code",
   "execution_count": null,
   "metadata": {},
   "outputs": [],
   "source": [
    "indic['non_couv_mobile']= 100-indic['couverture_mobilebis']"
   ]
  },
  {
   "cell_type": "markdown",
   "metadata": {},
   "source": [
    "Le taux de logement non raccordable à la fibre est estimée à partir des taux de logements raccordables"
   ]
  },
  {
   "cell_type": "code",
   "execution_count": null,
   "metadata": {},
   "outputs": [],
   "source": [
    "indic['logt_non_raccord']= 100-indic['Taux logements raccordablesbis']"
   ]
  },
  {
   "cell_type": "markdown",
   "metadata": {},
   "source": [
    "Les variables sont ensuite séparées en deux groupes. Celles qui seront comparées à la moyenne de chaque commune et celles qui seront comparées à la moyenne de chaque Iris. \n",
    "Un dataframe regroupant les moyennes des variables par commune est donc créé."
   ]
  },
  {
   "cell_type": "code",
   "execution_count": null,
   "metadata": {},
   "outputs": [],
   "source": [
    "group = indic[['depcom','Tx_pauvre','non_couv_mobile','logt_non_raccord','taux_percou']]\n",
    "com = group.groupby(['depcom']).mean()"
   ]
  },
  {
   "cell_type": "markdown",
   "metadata": {},
   "source": [
    "### [Les étapes du calcul](#sommaire)<a class=\"anchor\" id=\"16\"></a>"
   ]
  },
  {
   "cell_type": "markdown",
   "metadata": {},
   "source": [
    "* **Etape 1:** attribuer des points et calculer le score de chaque variable à partir du coefficient multiplicateur en comparant à la moyenne (de la commune ou de l'Iris)"
   ]
  },
  {
   "cell_type": "markdown",
   "metadata": {},
   "source": [
    "Pour les variables comparées à la moyenne des Iris:"
   ]
  },
  {
   "cell_type": "code",
   "execution_count": null,
   "metadata": {},
   "outputs": [],
   "source": [
    "listcol1 = ['PartNBMONOFAM', 'PartNB15_29',\n",
    "       'PartNB65+', 'PartNBIMMI', 'PartNBMEN1P', 'PartNBCHOM15_64',\n",
    "       'PartNB15NSCONDIPL','equip_ind']\n",
    "for l in listcol1:\n",
    "    newcol = \"pt_\" + l \n",
    "    indic[newcol] = ((indic[l]-indic[l].mean())/indic[l].mean()+1)*100"
   ]
  },
  {
   "cell_type": "markdown",
   "metadata": {},
   "source": [
    "Pour les variables comparées à la moyenne des communes:"
   ]
  },
  {
   "cell_type": "code",
   "execution_count": null,
   "metadata": {},
   "outputs": [],
   "source": [
    "listcol2 = ['Tx_pauvre', 'non_couv_mobile',\n",
    "       'logt_non_raccord','taux_percou']\n",
    "for l in listcol2:\n",
    "    newcol = \"pt_\" + l \n",
    "    indic[newcol] = ((indic[l]-com[l].mean())/com[l].mean()+1)*100"
   ]
  },
  {
   "cell_type": "markdown",
   "metadata": {},
   "source": [
    "Pour le revenu médian, les revenus médians des communes sont comparés au revenu médian d'Orléans Métropole qui est de 21420 euros (INSEE,2017)."
   ]
  },
  {
   "cell_type": "code",
   "execution_count": null,
   "metadata": {},
   "outputs": [],
   "source": [
    "#Revenu médian sur Orléans métropole: 21420 euros\n",
    "m = 21420\n",
    "indic['pt_Medrev'] = ((m-indic['Medrev'])/m+1)*100"
   ]
  },
  {
   "cell_type": "markdown",
   "metadata": {},
   "source": [
    "* **Etape 2**: construire le scoring total pour un axe du modèle"
   ]
  },
  {
   "cell_type": "markdown",
   "metadata": {},
   "source": [
    "Les indicateurs de fragilité numérique sont classés selon deux problématiques: l'accès et les compétences. Les scores sont calculés à partir du regroupement des variables qui correspondent à ces problématiques. La MEDNUM a dégagé 4 axes principaux dans lesquelles classer ces variables: l'accès au numérique, l'accès à l'information, les compétences administratives, les compétences numériques.\n",
    "Les variables sont reliées à l'axe du modèle correspondant et les scores sont additionnés par axe."
   ]
  },
  {
   "cell_type": "code",
   "execution_count": null,
   "metadata": {},
   "outputs": [],
   "source": [
    "indic['acces_numerique']= (indic['pt_Medrev']+indic['pt_Tx_pauvre']+indic['pt_non_couv_mobile']+indic['pt_logt_non_raccord'])*100/400\n",
    "indic['acces_info']= (indic['pt_PartNBMONOFAM']+ indic['pt_PartNBMEN1P']+indic['pt_equip_ind']+indic['pt_PartNBIMMI'])*100/400\n",
    "indic['competence_administrative'] = (indic['pt_PartNB15_29']+indic['pt_PartNBCHOM15_64']+indic['pt_taux_percou'])*100/300\n",
    "indic['competence_numerique'] = (indic['pt_PartNB65+']+indic['pt_PartNB15NSCONDIPL'])*100/200"
   ]
  },
  {
   "cell_type": "markdown",
   "metadata": {},
   "source": [
    "* **Etape 3**: calculer les scoring globaux"
   ]
  },
  {
   "cell_type": "code",
   "execution_count": null,
   "metadata": {},
   "outputs": [],
   "source": [
    "indic['acces_global'] = (indic['acces_numerique']+indic['acces_info'])*100/200\n",
    "indic['competence_global'] = (indic['competence_administrative']+indic['competence_numerique'])*100/200\n",
    "indic['score_global'] = (indic['acces_global']+indic['competence_global'])*100/200"
   ]
  },
  {
   "cell_type": "code",
   "execution_count": null,
   "metadata": {},
   "outputs": [],
   "source": [
    "indic_fragi = indic[['cantville','depcom','LIBCOM','iris','LIB_IRIS','geom', 'centroid','POPLEG','POPCOM','acces_numerique','acces_info','competence_administrative','acces_global','competence_global','score_global']]\n",
    "indic_fragi.to_csv (r\"C:\\Users\\neury\\Documents\\Python\\Sorties\\indic_fragi.csv\", index = True, header=True)"
   ]
  }
 ],
 "metadata": {
  "kernelspec": {
   "display_name": "Python 3",
   "language": "python",
   "name": "python3"
  },
  "language_info": {
   "codemirror_mode": {
    "name": "ipython",
    "version": 3
   },
   "file_extension": ".py",
   "mimetype": "text/x-python",
   "name": "python",
   "nbconvert_exporter": "python",
   "pygments_lexer": "ipython3",
   "version": "3.8.8"
  }
 },
 "nbformat": 4,
 "nbformat_minor": 4
}
