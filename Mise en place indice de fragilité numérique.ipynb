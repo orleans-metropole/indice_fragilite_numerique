{
 "cells": [
  {
   "cell_type": "markdown",
   "metadata": {},
   "source": [
    "# Mise en place d'un indice de fragilité numérique à Orléans métropole\n",
    "\n",
    "*Julie Neury-Ormanni (2020)*\n"
   ]
  },
  {
   "cell_type": "markdown",
   "metadata": {},
   "source": [
    "  ## Sommaire <a class=\"anchor\" id=\"sommaire\"></a>\n",
    "  ## [Import des librairies](#3) <a class=\"anchor\" id=\"sommaire\"></a>\n",
    "  ## [Préparation des données](#4) <a class=\"anchor\" id=\"sommaire\"></a>\n",
    "  ### [Collecte et extraction à partir des données brutes](#5) <a class=\"anchor\" id=\"sommaire\"></a>\n",
    "  #### [*Données de recensement brutes*](#6) <a class=\"anchor\" id=\"sommaire\"></a>\n",
    "  #### [*Données des bénéficiaires des droits sociaux*](#7) <a class=\"anchor\" id=\"sommaire\"></a>\n",
    "  #### [*Données géographiques des Iris de France (code commune, libellés communes et iris, aire géographique)*](#8) <a class=\"anchor\" id=\"sommaire\"></a>\n",
    "  ### [Transformation des données pour l'exploitation](#9) <a class=\"anchor\" id=\"sommaire\"></a>\n",
    "  #### [*Données de recensement des cantons où sont situées les 22 communes d'Orléans métropole:*](#10) <a class=\"anchor\" id=\"sommaire\"></a>\n",
    "  #### [*Données sur les différents point de mutualisation de la fibre sur Orléans métropole*](#11) <a class=\"anchor\" id=\"sommaire\"></a>\n",
    "  #### [*Données sur la géolocalisation des antennes 2G, 3G et 4G sur Orléans métropole*](#12) <a class=\"anchor\" id=\"sommaire\"></a>\n",
    "  #### [*Données de recensement des équipements sur Orléans métropole*](#13) <a class=\"anchor\" id=\"sommaire\"></a>\n",
    "  ## [Calcul des indices de fragilité numérique](#14) <a class=\"anchor\" id=\"sommaire\"></a>\n",
    "  ### [Regroupement des jeux de données](#15) <a class=\"anchor\" id=\"sommaire\"></a>\n",
    "  ### [Les étapes du calcul](#16) <a class=\"anchor\" id=\"sommaire\"></a>"
   ]
  },
  {
   "cell_type": "markdown",
   "metadata": {},
   "source": [
    "*opendatasoft (https://data.orleans-metropole.fr/pages/home/)*"
   ]
  },
  {
   "cell_type": "markdown",
   "metadata": {},
   "source": [
    "Les données énumérées et décrites dans le tableau ci-dessus sont disponibles sur la plateforme Open Data Orléans Métropole (https://data.orleans-metropole.fr/pages/home/). Tous ces indicateurs ont été regroupés sur un seul jeu de données (Données pour le calcul d'indicateur de fragilité numérique), téléchargeable en .csv sur la plateforme et l'API. Les jointures ont été établies sur les Iris lorsque c'était possible ou grâce aux coordonnées géographique (processeur: Récupérer les divisions administratives). Les données nécessaires ont été sélectionnées via Python afin de vérifier les doublons et d'homogénéiser les codes utilisés (notamment ceux des Iris qui n'étaient pas notés de la même manière d'un jeu de donnée à l'autre)."
   ]
  },
  {
   "cell_type": "markdown",
   "metadata": {},
   "source": [
    "## [Import des librairies](#sommaire)<a class=\"anchor\" id=\"3\"></a>"
   ]
  },
  {
   "cell_type": "markdown",
   "metadata": {},
   "source": [
    "La librairie pandas a été utilisée pour l'import, les extractions et le nettoyage des données. La librairie numpy a été utilisé pour faciliter la gestion de certaines tables."
   ]
  },
  {
   "cell_type": "code",
   "execution_count": 2,
   "metadata": {},
   "outputs": [],
   "source": [
    "import pandas as pd"
   ]
  },
  {
   "cell_type": "code",
   "execution_count": 25,
   "metadata": {},
   "outputs": [],
   "source": [
    "import numpy as np"
   ]
  },
  {
   "cell_type": "markdown",
   "metadata": {},
   "source": [
    "## [Préparation des données](#sommaire)<a class=\"anchor\" id=\"4\"></a>"
   ]
  },
  {
   "cell_type": "markdown",
   "metadata": {},
   "source": [
    "Les jeu de données sont récupérés sur les différentes plateformes des données publics, ajouter à https://data.orleans-metropole.fr/pages/home/ et extraites en.csv à partir de la plateforme ou directement depuis l'API. Certains jeux de données ont été enregistrés sur un disque local pour les divers traitements."
   ]
  },
  {
   "cell_type": "markdown",
   "metadata": {},
   "source": [
    "Pour faciliter la lecture, les mots clés 'chemin d'accès' seront utilisés dans la formules de code pour les jeux de données qui ont été enregistrés sur le disque local."
   ]
  },
  {
   "cell_type": "markdown",
   "metadata": {},
   "source": [
    "### [Collecte et extraction à partir des données brutes](#sommaire)<a class=\"anchor\" id=\"5\"></a>"
   ]
  },
  {
   "cell_type": "markdown",
   "metadata": {},
   "source": [
    "#### [*Données de recensement brutes*](#sommaire)<a class=\"anchor\" id=\"6\"></a>"
   ]
  },
  {
   "cell_type": "markdown",
   "metadata": {},
   "source": [
    "A partir des données brutes de recensement,un premier nettoyage a été effectué en ne sélectionnant que les cantons où sont situées les 22 communes d'Orléans. Ces données ont ensuite été converties en .csv pour être publiées sur Open Data Orléans Métropole et traitées par la suite (Recensement 2017: Individus localisés au canton des communes d'Orléans Métropole).\n",
    "**Le recensement repose sur une collecte d’informations annuelle,concernant successivement toutes  les communes au cours d’une période de cinq ans. Les communes de moins de 10 000 habitants réalisent une enquête de recensement portant sur toute leur population une fois tous les cinq ans. Les communes de plus de 10 000 habitants tiennent à jour un répertoire exhaustif de logements et font tous les ans une enquête par sondage auprès d’un échantillon représentant 8 % de leurs logements.En cumulant cinq enquêtes, l'ensemble des habitants des communes de moins de 10 000 habitants et 40 % environ de la population des communes de 10 000 habitants ou plus sont pris en compte.**\n",
    "En 2017, seules 17 communes ont pu être utilisé pour cette étude de fragilité. Les communes non irisées possédant la nomenclature 'ZZZZZZZZZ', il n' a pas été possible de les identifier."
   ]
  },
  {
   "cell_type": "code",
   "execution_count": null,
   "metadata": {},
   "outputs": [],
   "source": [
    "RP = pd.read_csv(r\"chemin d'accès\\FD_INDCVIZB_2017.csv\", delimiter = ';')\n",
    "RPinsee_canton = RP[(RP['CANTVILLE'] == 4505)|(RP['CANTVILLE'] == 4506) |(RP['CANTVILLE'] == 4512) |(RP['CANTVILLE'] == 4515) |(RP['CANTVILLE'] == 4518) |(RP['CANTVILLE'] == 4519) |(RP['CANTVILLE'] == 4520) |(RP['CANTVILLE'] == 4599)]\n",
    "RPinsee_canton.to_csv (r\"chemin d'accès\\RPinsee_canton.csv\", index = False, header=True)"
   ]
  },
  {
   "cell_type": "markdown",
   "metadata": {},
   "source": [
    "#### [*Données des bénéficiaires des droits sociaux*](#sommaire)<a class=\"anchor\" id=\"7\"></a>"
   ]
  },
  {
   "cell_type": "markdown",
   "metadata": {},
   "source": [
    "A partir des données brutes,un premier nettoyage a été effectué en ne sélectionnant que les 22 communes d'Orléans métropole. Ces données ont ensuite été converties en .csv pour être publiées sur Open Data Orléans Métropole et traitées par la suite(Bénéficiaires des prestations légales versées par les CAF au 31/12/2018_Orléans métropole).\n",
    "\n",
    "Clé primaire:Iris (CODGEO)\n"
   ]
  },
  {
   "cell_type": "code",
   "execution_count": null,
   "metadata": {},
   "outputs": [],
   "source": [
    "CAF = pd.read_csv(r\"chemin d'accès\\data_CAF2018_iris.csv\", delimiter = ';')\n",
    "CAF_orleans_metro = CAF[(CAF['DEPCOM'] == '45034')|(CAF['DEPCOM'] == '45043')|(CAF['DEPCOM'] == '45072')|(CAF['DEPCOM'] == '45075')|(CAF['DEPCOM'] == '45089')|(CAF['DEPCOM'] == '45100')|(CAF['DEPCOM'] == '45147')|(CAF['DEPCOM'] == '45169')|(CAF['DEPCOM'] == '45194')|(CAF['DEPCOM'] == '45197')|(CAF['DEPCOM'] == '45232')|(CAF['DEPCOM'] == '45234')|(CAF['DEPCOM'] == '45235')|(CAF['DEPCOM'] == '45272')|(CAF['DEPCOM'] == '45274')|(CAF['DEPCOM'] == '45282')|(CAF['DEPCOM'] == '45284')|(CAF['DEPCOM'] == '45285')|(CAF['DEPCOM'] == '45286')|(CAF['DEPCOM'] == '45298')|(CAF['DEPCOM'] == '45302')|(CAF['DEPCOM'] == '45308')]\n",
    "CAF_orleans_metro.to_csv (r\"chemin d'accès\\CAF_orleans_metro.csv\", index = False, header=True)"
   ]
  },
  {
   "cell_type": "markdown",
   "metadata": {},
   "source": [
    "#### [*Données géographiques des Iris de France (code commune, libellés communes et iris, aire géographique)*](#sommaire)<a class=\"anchor\" id=\"8\"></a>"
   ]
  },
  {
   "cell_type": "markdown",
   "metadata": {},
   "source": [
    "Cette table servira principalement à lier les communes et les iris pour les jeu de données ne contenant pas l'information Iris. Les jointures géographiques seront effectuées directement sur Open Data Orléans Métropole avec le processeur 'jointure géographique' sur les iris 2019. Seuls les Iris des 22 communes d'Orléans ont été sélectionnées. Ce jeu de données a été publié sur Open Data Orléans Métropole (Table de référence des IRIS 2020 - Orléans Métropole).\n",
    "\n",
    "Clé primaire: Iris (CODE_IRIS) et Commune (DEPCOM)"
   ]
  },
  {
   "cell_type": "code",
   "execution_count": null,
   "metadata": {},
   "outputs": [],
   "source": [
    "iris = pd.read_excel(r\"chemin d'accès\\reference_IRIS_geo2020_modif.xlsx\")\n",
    "iris_om = iris[(iris['DEPCOM'] == '45034')|(iris['DEPCOM'] == '45043')|(iris['DEPCOM'] == '45072')|(iris['DEPCOM'] == '45075')|(iris['DEPCOM'] == '45089')|(iris['DEPCOM'] == '45100')|(iris['DEPCOM'] == '45147')|(iris['DEPCOM'] == '45169')|(iris['DEPCOM'] == '45194')|(iris['DEPCOM'] == '45197')|(iris['DEPCOM'] == '45232')|(iris['DEPCOM'] == '45234')|(iris['DEPCOM'] == '45235')|(iris['DEPCOM'] == '45272')|(iris['DEPCOM'] == '45274')|(iris['DEPCOM'] == '45282')|(iris['DEPCOM'] == '45284')|(iris['DEPCOM'] == '45285')|(iris['DEPCOM'] == '45286')|(iris['DEPCOM'] == '45298')|(iris['DEPCOM'] == '45302')|(iris['DEPCOM'] == '45308')]\n",
    "iris_om.to_csv (r\"chemin d'accès\\reference_iris_om.csv\", index = False, header=True)"
   ]
  },
  {
   "cell_type": "markdown",
   "metadata": {},
   "source": [
    "### [Transformation des données pour l'exploitation](#sommaire)<a class=\"anchor\" id=\"9\"></a>"
   ]
  },
  {
   "cell_type": "markdown",
   "metadata": {},
   "source": [
    "#### [*Données de recensement des cantons où sont situées les 22 communes d'Orléans métropole:*](#sommaire)<a class=\"anchor\" id=\"10\"></a>"
   ]
  },
  {
   "cell_type": "markdown",
   "metadata": {},
   "source": [
    "Le jeu de donnée ici importé est issu des extractions réalisées ci-dessus à partir des données de recensement brutes. Plusieurs indicateurs vont être calculés.\n",
    "\n",
    "Clé primaire: Canton (CANTVILLE) et Iris (IRIS)"
   ]
  },
  {
   "cell_type": "markdown",
   "metadata": {},
   "source": [
    "* **Import du jeu de donnée**"
   ]
  },
  {
   "cell_type": "code",
   "execution_count": 18,
   "metadata": {},
   "outputs": [
    {
     "name": "stderr",
     "output_type": "stream",
     "text": [
      "C:\\Users\\neury\\Anaconda3\\lib\\site-packages\\IPython\\core\\interactiveshell.py:3071: DtypeWarning: Columns (2,3,4,10,11,12,16,18,19,24,27,28,34,35,39,40,41,48,54,59,61,64,65,71,73,74,75,76) have mixed types.Specify dtype option on import or set low_memory=False.\n",
      "  has_raised = await self.run_ast_nodes(code_ast.body, cell_name,\n"
     ]
    }
   ],
   "source": [
    "#RPinsee = pd.read_csv(r\"C:\\Users\\neury\\Documents\\Python\\sorties\\RPinsee_canton_17.csv\", delimiter = ',')\n",
    "RPinsee = pd.read_csv(\"https://data.orleans-metropole.fr/api/v2/catalog/datasets/recensement-individu-localise-au-canton-des-communes-dorleans-metropole-2017/exports/csv?limit=-1&select=*&timezone=UTC&delimiter=%3B&apikey=10c35d0b43b07cd01107198942a6db6f77c6cb338cdbd6b4c3f2d56d\", delimiter=';')"
   ]
  },
  {
   "cell_type": "markdown",
   "metadata": {},
   "source": [
    "* **Nettoyage des données**\n",
    "\n",
    "Afin d'homogénéiser les codes des iris les codes marqués 'ZZZZZZZZZ' concernant les communes non irisées ont été remplacés par les codes iris référencés dans la table de référence des Iris, à l'aide la fonction suivante:"
   ]
  },
  {
   "cell_type": "code",
   "execution_count": 20,
   "metadata": {},
   "outputs": [],
   "source": [
    "moncarac='ZZZZZZZZZ'\n",
    "def myfunc(x,y,replacechar):\n",
    "    if x == 4505 and y == replacechar:\n",
    "        return '452720000'\n",
    "    elif x ==4506 and y == replacechar:\n",
    "        return '451970000'\n",
    "    elif x ==4512 and y == replacechar:\n",
    "        return '452820000'\n",
    "    elif x ==4515 and y == replacechar:\n",
    "        return '452350000'\n",
    "    elif x ==4518 and y ==replacechar:\n",
    "        return '453080000'\n",
    "    elif x == 4599 and y == '45234XXXX':\n",
    "        return '452342104'\n",
    "    elif x == 4518 and y == '45284XXXX':\n",
    "        return '452840304'\n",
    "    else:\n",
    "        return y\n",
    "\n",
    "RPinsee['iris'] = RPinsee.apply(lambda x: myfunc(x.cantville, x.iris, moncarac), axis=1)"
   ]
  },
  {
   "cell_type": "markdown",
   "metadata": {},
   "source": [
    "Les autres communes non irisées ne faisant pas partie des communes d'Orléans métropole ou ne pouvant être identifiées ont été supprimées:"
   ]
  },
  {
   "cell_type": "code",
   "execution_count": 21,
   "metadata": {},
   "outputs": [],
   "source": [
    "RPinsee.drop(RPinsee[RPinsee['iris']=='ZZZZZZZZZ'].index, inplace = True)"
   ]
  },
  {
   "cell_type": "markdown",
   "metadata": {},
   "source": [
    "On scinde le code des iris pour retrouver les communes auxquels ils appartiennent. Et on place ce résultat dans la colonne 'depcom' (code insee des communes)."
   ]
  },
  {
   "cell_type": "code",
   "execution_count": 22,
   "metadata": {},
   "outputs": [],
   "source": [
    "RPinsee['depcom'] = RPinsee['iris'].str.slice(stop=5)"
   ]
  },
  {
   "cell_type": "markdown",
   "metadata": {},
   "source": [
    "* **Création du dataframe et calculs**"
   ]
  },
  {
   "cell_type": "markdown",
   "metadata": {},
   "source": [
    "Le dataframe qui va accueillir les données pour calculer les indicateurs a été créé à partir de la fonction '.groupby'.  Cette fonction groupe les données à partir des index choisis (ici un multiindex canton et commune). La fonction '.count()' indique que l'on souhaite obtenir le nombre de cellules à valeur non-nulle respectant les conditions renseignées."
   ]
  },
  {
   "cell_type": "code",
   "execution_count": 25,
   "metadata": {},
   "outputs": [],
   "source": [
    "mycolumns = ['cantville','nummi','aged','dipl','empl','etud','immi','infam','inper','inperf','iris','nperr','sfm','tact','typfc', 'depcom']\n",
    "RPinsee_tmt = RPinsee[mycolumns]\n",
    "table = RPinsee_tmt.groupby(['cantville','depcom','iris']).count()\n",
    "#Garder la première colonne et la renommer car elle indique la population légale totale\n",
    "table.rename(columns={'nummi':'POPLEG'}, inplace = True)\n",
    "#Effacer le reste des colonnes\n",
    "table.drop(['aged','dipl','empl','etud','immi','infam','inper','inperf','nperr','sfm','tact','typfc'],axis = 'columns', inplace = True)"
   ]
  },
  {
   "cell_type": "markdown",
   "metadata": {},
   "source": [
    "Ci-après, le code permettant d'ajouter les colonnes qui correspondent aux données recherchées. On compte pour chaque Iris le nombres de personnes correspondant aux conditions."
   ]
  },
  {
   "cell_type": "code",
   "execution_count": 27,
   "metadata": {},
   "outputs": [],
   "source": [
    "# Le nombre de personnes âgées de plus de 65 ans:\n",
    "table['NB65+'] =RPinsee_tmt[RPinsee_tmt['aged'] > 65].groupby(['cantville','depcom','iris'])['aged'].count()\n",
    "# Le nombre de personnes âgées de 15 à 29 ans:\n",
    "table['NB15_29'] = RPinsee_tmt[(RPinsee_tmt ['aged']>15) & (RPinsee_tmt['aged'] < 30)].groupby(['cantville','depcom','iris'])['aged'].count()\n",
    "# Le nombre de personnes vivant en famille monoparentale:\n",
    "table['NBMONOFAM'] = RPinsee_tmt[(RPinsee_tmt ['sfm']== '21') | (RPinsee_tmt['sfm']== '22')| (RPinsee_tmt ['sfm']== '40')].groupby(['cantville','depcom','iris'])['aged'].count()\n",
    "# Le nombre de personnes vivant dans un ménage d'une personne:\n",
    "table['NBMEN1P'] = RPinsee_tmt[(RPinsee_tmt ['nperr']== '1')].groupby(['cantville','depcom','iris'])['nperr'].count()\n",
    "# Le nombre de personnes de plus de 15 ans, non scolarisées, non ou peu diplômées:\n",
    "table['NB15NSCONDIPL'] = RPinsee_tmt[(RPinsee_tmt['aged'] >15)&(RPinsee_tmt['etud']==2)&((RPinsee_tmt['dipl']=='01')|(RPinsee_tmt['dipl']=='02')|(RPinsee_tmt['dipl']=='03')|(RPinsee_tmt['dipl']=='11')|(RPinsee_tmt['dipl']=='12'))].groupby(['cantville','depcom','iris'])['aged'].count()\n",
    "# Le nombre de personnes entre 15 et 64 ans au chômage:\n",
    "table['NBCHOM15_64'] = RPinsee_tmt[(RPinsee_tmt['aged'] >15)&(RPinsee_tmt['aged']<65)&(RPinsee_tmt['tact']==12)].groupby(['cantville','depcom','iris'])['aged'].count()\n",
    "# Le nombre de personnes immigrées:\n",
    "table['NBIMMI'] = RPinsee_tmt[(RPinsee_tmt['immi'] == 1)].groupby(['cantville','depcom','iris'])['aged'].count()"
   ]
  },
  {
   "cell_type": "markdown",
   "metadata": {},
   "source": [
    "Pour le nombre de ménage total d'un Iris, on effectue un '.nunique()' sur les numéros d'anonymisation des logements, qui correspond au nombre de valeurs différentes (pour chaque Iris)."
   ]
  },
  {
   "cell_type": "code",
   "execution_count": 28,
   "metadata": {},
   "outputs": [],
   "source": [
    "# Le nombre de ménages total d'un Iris:\n",
    "table[\"NBMENTOT\"] = RPinsee_tmt.groupby(['cantville','depcom','iris'])['nummi'].nunique()"
   ]
  },
  {
   "cell_type": "markdown",
   "metadata": {},
   "source": [
    "Pour calculer la part de population qui correspond aux critères, il suffit de diviser par la population légale totale. Le code ci-dessous permet d'automatiser l'alimentation des colonnes à partir d'une simple division par la colonne 'POPLEG'."
   ]
  },
  {
   "cell_type": "code",
   "execution_count": 29,
   "metadata": {},
   "outputs": [],
   "source": [
    "listcol = ['NBMONOFAM','NB15_29','NB65+','NBIMMI','NBMEN1P','NBCHOM15_64','NB15NSCONDIPL']\n",
    "for l in listcol:\n",
    "    newcol = \"Part\" + l \n",
    "    table[newcol] = table[l]/table['POPLEG']"
   ]
  },
  {
   "cell_type": "code",
   "execution_count": 30,
   "metadata": {
    "collapsed": true
   },
   "outputs": [
    {
     "data": {
      "text/html": [
       "<div>\n",
       "<style scoped>\n",
       "    .dataframe tbody tr th:only-of-type {\n",
       "        vertical-align: middle;\n",
       "    }\n",
       "\n",
       "    .dataframe tbody tr th {\n",
       "        vertical-align: top;\n",
       "    }\n",
       "\n",
       "    .dataframe thead th {\n",
       "        text-align: right;\n",
       "    }\n",
       "</style>\n",
       "<table border=\"1\" class=\"dataframe\">\n",
       "  <thead>\n",
       "    <tr style=\"text-align: right;\">\n",
       "      <th></th>\n",
       "      <th></th>\n",
       "      <th></th>\n",
       "      <th>POPLEG</th>\n",
       "      <th>NB65+</th>\n",
       "      <th>NB15_29</th>\n",
       "      <th>NBMONOFAM</th>\n",
       "      <th>NBMEN1P</th>\n",
       "      <th>NB15NSCONDIPL</th>\n",
       "      <th>NBCHOM15_64</th>\n",
       "      <th>NBIMMI</th>\n",
       "      <th>NBMENTOT</th>\n",
       "      <th>PartNBMONOFAM</th>\n",
       "      <th>PartNB15_29</th>\n",
       "      <th>PartNB65+</th>\n",
       "      <th>PartNBIMMI</th>\n",
       "      <th>PartNBMEN1P</th>\n",
       "      <th>PartNBCHOM15_64</th>\n",
       "      <th>PartNB15NSCONDIPL</th>\n",
       "    </tr>\n",
       "    <tr>\n",
       "      <th>cantville</th>\n",
       "      <th>depcom</th>\n",
       "      <th>iris</th>\n",
       "      <th></th>\n",
       "      <th></th>\n",
       "      <th></th>\n",
       "      <th></th>\n",
       "      <th></th>\n",
       "      <th></th>\n",
       "      <th></th>\n",
       "      <th></th>\n",
       "      <th></th>\n",
       "      <th></th>\n",
       "      <th></th>\n",
       "      <th></th>\n",
       "      <th></th>\n",
       "      <th></th>\n",
       "      <th></th>\n",
       "      <th></th>\n",
       "    </tr>\n",
       "  </thead>\n",
       "  <tbody>\n",
       "    <tr>\n",
       "      <th>4505</th>\n",
       "      <th>45272</th>\n",
       "      <th>452720000</th>\n",
       "      <td>3458</td>\n",
       "      <td>691</td>\n",
       "      <td>458</td>\n",
       "      <td>262.0</td>\n",
       "      <td>396</td>\n",
       "      <td>626</td>\n",
       "      <td>141</td>\n",
       "      <td>139</td>\n",
       "      <td>1456</td>\n",
       "      <td>0.075766</td>\n",
       "      <td>0.132447</td>\n",
       "      <td>0.199826</td>\n",
       "      <td>0.040197</td>\n",
       "      <td>0.114517</td>\n",
       "      <td>0.040775</td>\n",
       "      <td>0.181029</td>\n",
       "    </tr>\n",
       "    <tr>\n",
       "      <th rowspan=\"4\" valign=\"top\">4506</th>\n",
       "      <th rowspan=\"4\" valign=\"top\">45147</th>\n",
       "      <th>451470101</th>\n",
       "      <td>70</td>\n",
       "      <td>11</td>\n",
       "      <td>15</td>\n",
       "      <td>3.0</td>\n",
       "      <td>7</td>\n",
       "      <td>27</td>\n",
       "      <td>2</td>\n",
       "      <td>2</td>\n",
       "      <td>13</td>\n",
       "      <td>0.042857</td>\n",
       "      <td>0.214286</td>\n",
       "      <td>0.157143</td>\n",
       "      <td>0.028571</td>\n",
       "      <td>0.100000</td>\n",
       "      <td>0.028571</td>\n",
       "      <td>0.385714</td>\n",
       "    </tr>\n",
       "    <tr>\n",
       "      <th>451470102</th>\n",
       "      <td>542</td>\n",
       "      <td>126</td>\n",
       "      <td>83</td>\n",
       "      <td>51.0</td>\n",
       "      <td>58</td>\n",
       "      <td>137</td>\n",
       "      <td>31</td>\n",
       "      <td>72</td>\n",
       "      <td>211</td>\n",
       "      <td>0.094096</td>\n",
       "      <td>0.153137</td>\n",
       "      <td>0.232472</td>\n",
       "      <td>0.132841</td>\n",
       "      <td>0.107011</td>\n",
       "      <td>0.057196</td>\n",
       "      <td>0.252768</td>\n",
       "    </tr>\n",
       "    <tr>\n",
       "      <th>451470103</th>\n",
       "      <td>1119</td>\n",
       "      <td>94</td>\n",
       "      <td>211</td>\n",
       "      <td>156.0</td>\n",
       "      <td>105</td>\n",
       "      <td>168</td>\n",
       "      <td>76</td>\n",
       "      <td>184</td>\n",
       "      <td>426</td>\n",
       "      <td>0.139410</td>\n",
       "      <td>0.188561</td>\n",
       "      <td>0.084004</td>\n",
       "      <td>0.164433</td>\n",
       "      <td>0.093834</td>\n",
       "      <td>0.067918</td>\n",
       "      <td>0.150134</td>\n",
       "    </tr>\n",
       "    <tr>\n",
       "      <th>451470201</th>\n",
       "      <td>1159</td>\n",
       "      <td>105</td>\n",
       "      <td>189</td>\n",
       "      <td>293.0</td>\n",
       "      <td>164</td>\n",
       "      <td>259</td>\n",
       "      <td>169</td>\n",
       "      <td>360</td>\n",
       "      <td>480</td>\n",
       "      <td>0.252804</td>\n",
       "      <td>0.163072</td>\n",
       "      <td>0.090595</td>\n",
       "      <td>0.310613</td>\n",
       "      <td>0.141501</td>\n",
       "      <td>0.145815</td>\n",
       "      <td>0.223469</td>\n",
       "    </tr>\n",
       "    <tr>\n",
       "      <th>...</th>\n",
       "      <th>...</th>\n",
       "      <th>...</th>\n",
       "      <td>...</td>\n",
       "      <td>...</td>\n",
       "      <td>...</td>\n",
       "      <td>...</td>\n",
       "      <td>...</td>\n",
       "      <td>...</td>\n",
       "      <td>...</td>\n",
       "      <td>...</td>\n",
       "      <td>...</td>\n",
       "      <td>...</td>\n",
       "      <td>...</td>\n",
       "      <td>...</td>\n",
       "      <td>...</td>\n",
       "      <td>...</td>\n",
       "      <td>...</td>\n",
       "      <td>...</td>\n",
       "    </tr>\n",
       "    <tr>\n",
       "      <th rowspan=\"5\" valign=\"top\">4599</th>\n",
       "      <th rowspan=\"5\" valign=\"top\">45234</th>\n",
       "      <th>452342002</th>\n",
       "      <td>746</td>\n",
       "      <td>53</td>\n",
       "      <td>142</td>\n",
       "      <td>115.0</td>\n",
       "      <td>30</td>\n",
       "      <td>179</td>\n",
       "      <td>121</td>\n",
       "      <td>260</td>\n",
       "      <td>395</td>\n",
       "      <td>0.154155</td>\n",
       "      <td>0.190349</td>\n",
       "      <td>0.071046</td>\n",
       "      <td>0.348525</td>\n",
       "      <td>0.040214</td>\n",
       "      <td>0.162198</td>\n",
       "      <td>0.239946</td>\n",
       "    </tr>\n",
       "    <tr>\n",
       "      <th>452342101</th>\n",
       "      <td>838</td>\n",
       "      <td>221</td>\n",
       "      <td>142</td>\n",
       "      <td>64.0</td>\n",
       "      <td>49</td>\n",
       "      <td>163</td>\n",
       "      <td>37</td>\n",
       "      <td>111</td>\n",
       "      <td>483</td>\n",
       "      <td>0.076372</td>\n",
       "      <td>0.169451</td>\n",
       "      <td>0.263723</td>\n",
       "      <td>0.132458</td>\n",
       "      <td>0.058473</td>\n",
       "      <td>0.044153</td>\n",
       "      <td>0.194511</td>\n",
       "    </tr>\n",
       "    <tr>\n",
       "      <th>452342102</th>\n",
       "      <td>709</td>\n",
       "      <td>231</td>\n",
       "      <td>65</td>\n",
       "      <td>26.0</td>\n",
       "      <td>45</td>\n",
       "      <td>133</td>\n",
       "      <td>21</td>\n",
       "      <td>94</td>\n",
       "      <td>386</td>\n",
       "      <td>0.036671</td>\n",
       "      <td>0.091678</td>\n",
       "      <td>0.325811</td>\n",
       "      <td>0.132581</td>\n",
       "      <td>0.063470</td>\n",
       "      <td>0.029619</td>\n",
       "      <td>0.187588</td>\n",
       "    </tr>\n",
       "    <tr>\n",
       "      <th>452342103</th>\n",
       "      <td>1258</td>\n",
       "      <td>34</td>\n",
       "      <td>1078</td>\n",
       "      <td>1.0</td>\n",
       "      <td>381</td>\n",
       "      <td>120</td>\n",
       "      <td>99</td>\n",
       "      <td>201</td>\n",
       "      <td>812</td>\n",
       "      <td>0.000795</td>\n",
       "      <td>0.856916</td>\n",
       "      <td>0.027027</td>\n",
       "      <td>0.159777</td>\n",
       "      <td>0.302862</td>\n",
       "      <td>0.078696</td>\n",
       "      <td>0.095390</td>\n",
       "    </tr>\n",
       "    <tr>\n",
       "      <th>452342104</th>\n",
       "      <td>64</td>\n",
       "      <td>1</td>\n",
       "      <td>13</td>\n",
       "      <td>7.0</td>\n",
       "      <td>1</td>\n",
       "      <td>6</td>\n",
       "      <td>7</td>\n",
       "      <td>9</td>\n",
       "      <td>29</td>\n",
       "      <td>0.109375</td>\n",
       "      <td>0.203125</td>\n",
       "      <td>0.015625</td>\n",
       "      <td>0.140625</td>\n",
       "      <td>0.015625</td>\n",
       "      <td>0.109375</td>\n",
       "      <td>0.093750</td>\n",
       "    </tr>\n",
       "  </tbody>\n",
       "</table>\n",
       "<p>111 rows × 16 columns</p>\n",
       "</div>"
      ],
      "text/plain": [
       "                            POPLEG  NB65+  NB15_29  NBMONOFAM  NBMEN1P  \\\n",
       "cantville depcom iris                                                    \n",
       "4505      45272  452720000    3458    691      458      262.0      396   \n",
       "4506      45147  451470101      70     11       15        3.0        7   \n",
       "                 451470102     542    126       83       51.0       58   \n",
       "                 451470103    1119     94      211      156.0      105   \n",
       "                 451470201    1159    105      189      293.0      164   \n",
       "...                            ...    ...      ...        ...      ...   \n",
       "4599      45234  452342002     746     53      142      115.0       30   \n",
       "                 452342101     838    221      142       64.0       49   \n",
       "                 452342102     709    231       65       26.0       45   \n",
       "                 452342103    1258     34     1078        1.0      381   \n",
       "                 452342104      64      1       13        7.0        1   \n",
       "\n",
       "                            NB15NSCONDIPL  NBCHOM15_64  NBIMMI  NBMENTOT  \\\n",
       "cantville depcom iris                                                      \n",
       "4505      45272  452720000            626          141     139      1456   \n",
       "4506      45147  451470101             27            2       2        13   \n",
       "                 451470102            137           31      72       211   \n",
       "                 451470103            168           76     184       426   \n",
       "                 451470201            259          169     360       480   \n",
       "...                                   ...          ...     ...       ...   \n",
       "4599      45234  452342002            179          121     260       395   \n",
       "                 452342101            163           37     111       483   \n",
       "                 452342102            133           21      94       386   \n",
       "                 452342103            120           99     201       812   \n",
       "                 452342104              6            7       9        29   \n",
       "\n",
       "                            PartNBMONOFAM  PartNB15_29  PartNB65+  PartNBIMMI  \\\n",
       "cantville depcom iris                                                           \n",
       "4505      45272  452720000       0.075766     0.132447   0.199826    0.040197   \n",
       "4506      45147  451470101       0.042857     0.214286   0.157143    0.028571   \n",
       "                 451470102       0.094096     0.153137   0.232472    0.132841   \n",
       "                 451470103       0.139410     0.188561   0.084004    0.164433   \n",
       "                 451470201       0.252804     0.163072   0.090595    0.310613   \n",
       "...                                   ...          ...        ...         ...   \n",
       "4599      45234  452342002       0.154155     0.190349   0.071046    0.348525   \n",
       "                 452342101       0.076372     0.169451   0.263723    0.132458   \n",
       "                 452342102       0.036671     0.091678   0.325811    0.132581   \n",
       "                 452342103       0.000795     0.856916   0.027027    0.159777   \n",
       "                 452342104       0.109375     0.203125   0.015625    0.140625   \n",
       "\n",
       "                            PartNBMEN1P  PartNBCHOM15_64  PartNB15NSCONDIPL  \n",
       "cantville depcom iris                                                        \n",
       "4505      45272  452720000     0.114517         0.040775           0.181029  \n",
       "4506      45147  451470101     0.100000         0.028571           0.385714  \n",
       "                 451470102     0.107011         0.057196           0.252768  \n",
       "                 451470103     0.093834         0.067918           0.150134  \n",
       "                 451470201     0.141501         0.145815           0.223469  \n",
       "...                                 ...              ...                ...  \n",
       "4599      45234  452342002     0.040214         0.162198           0.239946  \n",
       "                 452342101     0.058473         0.044153           0.194511  \n",
       "                 452342102     0.063470         0.029619           0.187588  \n",
       "                 452342103     0.302862         0.078696           0.095390  \n",
       "                 452342104     0.015625         0.109375           0.093750  \n",
       "\n",
       "[111 rows x 16 columns]"
      ]
     },
     "execution_count": 30,
     "metadata": {},
     "output_type": "execute_result"
    }
   ],
   "source": [
    "table"
   ]
  },
  {
   "cell_type": "markdown",
   "metadata": {},
   "source": [
    "* **Export**"
   ]
  },
  {
   "cell_type": "markdown",
   "metadata": {},
   "source": [
    "Une fois ces calculs effectués, le dataframe est exporté en format .csv et publié sur Open Data Orléans Métropole('Informations 2017 (âge de population, chômage, immigration) sur la population d'Orléans métropole pour déterminer un indice de fragilité numérique par IRIS (données traitées de RP 2017)')."
   ]
  },
  {
   "cell_type": "code",
   "execution_count": 31,
   "metadata": {},
   "outputs": [],
   "source": [
    "table.to_csv (r\"chemin d'accès\\population_canton_iris_RPinsee2017.csv\", index = True, header=True)"
   ]
  },
  {
   "cell_type": "markdown",
   "metadata": {},
   "source": [
    "#### [*Données sur les différents point de mutualisation de la fibre sur Orléans métropole*](#sommaire)<a class=\"anchor\" id=\"11\"></a>"
   ]
  },
  {
   "cell_type": "markdown",
   "metadata": {},
   "source": [
    "Cette table va permettre de récupérer le taux de logement raccordable moyen par commune, en récupérant le nombre de logement par commune et le nombre de logement raccordables à la fibre par commune.\n",
    "Clé primaire: Commune (Code INSEE)"
   ]
  },
  {
   "cell_type": "markdown",
   "metadata": {},
   "source": [
    "* **Import des jeux de donnée**"
   ]
  },
  {
   "cell_type": "markdown",
   "metadata": {},
   "source": [
    "Le jeu de données sur le déploiement de la fibre a été filtré sur les 22 communes d'Orléans via la plateforme Open Data Soft et enregistrés sur le disque local. Le jeu de données sur le nombre de logement par commune a été récupéré sur le site d el'insee et mis en ligne sur la plateforme Open Data Soft puis enregistré sur le disque local."
   ]
  },
  {
   "cell_type": "code",
   "execution_count": 8,
   "metadata": {},
   "outputs": [],
   "source": [
    "ftth = pd.read_csv(r\"chemin d'accès\\deploiement-du-haut-et-tres-haut-debit-fixe-par-point-de-mutualisation-orleans-2018.csv\", delimiter = ';')\n",
    "log = pd.read_csv(r\"chemin d'accès\\logement_com.csv\")"
   ]
  },
  {
   "cell_type": "code",
   "execution_count": 9,
   "metadata": {
    "collapsed": true
   },
   "outputs": [
    {
     "data": {
      "text/html": [
       "<div>\n",
       "<style scoped>\n",
       "    .dataframe tbody tr th:only-of-type {\n",
       "        vertical-align: middle;\n",
       "    }\n",
       "\n",
       "    .dataframe tbody tr th {\n",
       "        vertical-align: top;\n",
       "    }\n",
       "\n",
       "    .dataframe thead th {\n",
       "        text-align: right;\n",
       "    }\n",
       "</style>\n",
       "<table border=\"1\" class=\"dataframe\">\n",
       "  <thead>\n",
       "    <tr style=\"text-align: right;\">\n",
       "      <th></th>\n",
       "      <th>LIBCOM</th>\n",
       "      <th>Code INSEE</th>\n",
       "      <th>NBLOG</th>\n",
       "    </tr>\n",
       "  </thead>\n",
       "  <tbody>\n",
       "    <tr>\n",
       "      <th>0</th>\n",
       "      <td>Boigny-sur-Bionne</td>\n",
       "      <td>45034</td>\n",
       "      <td>908.530491</td>\n",
       "    </tr>\n",
       "    <tr>\n",
       "      <th>1</th>\n",
       "      <td>Bou</td>\n",
       "      <td>45043</td>\n",
       "      <td>441.566045</td>\n",
       "    </tr>\n",
       "    <tr>\n",
       "      <th>2</th>\n",
       "      <td>Chanteau</td>\n",
       "      <td>45072</td>\n",
       "      <td>571.000000</td>\n",
       "    </tr>\n",
       "    <tr>\n",
       "      <th>3</th>\n",
       "      <td>Chécy</td>\n",
       "      <td>45089</td>\n",
       "      <td>3669.305346</td>\n",
       "    </tr>\n",
       "    <tr>\n",
       "      <th>4</th>\n",
       "      <td>Combleux</td>\n",
       "      <td>45100</td>\n",
       "      <td>264.931237</td>\n",
       "    </tr>\n",
       "    <tr>\n",
       "      <th>5</th>\n",
       "      <td>Fleury-les-Aubrais</td>\n",
       "      <td>45147</td>\n",
       "      <td>9835.620763</td>\n",
       "    </tr>\n",
       "    <tr>\n",
       "      <th>6</th>\n",
       "      <td>Ingré</td>\n",
       "      <td>45169</td>\n",
       "      <td>3813.988055</td>\n",
       "    </tr>\n",
       "    <tr>\n",
       "      <th>7</th>\n",
       "      <td>La Chapelle-Saint-Mesmin</td>\n",
       "      <td>45075</td>\n",
       "      <td>4611.100671</td>\n",
       "    </tr>\n",
       "    <tr>\n",
       "      <th>8</th>\n",
       "      <td>Mardié</td>\n",
       "      <td>45194</td>\n",
       "      <td>1191.042927</td>\n",
       "    </tr>\n",
       "    <tr>\n",
       "      <th>9</th>\n",
       "      <td>Marigny-les-Usages</td>\n",
       "      <td>45197</td>\n",
       "      <td>613.500684</td>\n",
       "    </tr>\n",
       "    <tr>\n",
       "      <th>10</th>\n",
       "      <td>Olivet</td>\n",
       "      <td>45232</td>\n",
       "      <td>11400.017383</td>\n",
       "    </tr>\n",
       "    <tr>\n",
       "      <th>11</th>\n",
       "      <td>Orléans</td>\n",
       "      <td>45234</td>\n",
       "      <td>66027.413027</td>\n",
       "    </tr>\n",
       "    <tr>\n",
       "      <th>12</th>\n",
       "      <td>Ormes</td>\n",
       "      <td>45235</td>\n",
       "      <td>1606.809810</td>\n",
       "    </tr>\n",
       "    <tr>\n",
       "      <th>13</th>\n",
       "      <td>Saint-Cyr-en-Val</td>\n",
       "      <td>45272</td>\n",
       "      <td>1552.000000</td>\n",
       "    </tr>\n",
       "    <tr>\n",
       "      <th>14</th>\n",
       "      <td>Saint-Denis-en-Val</td>\n",
       "      <td>45274</td>\n",
       "      <td>3178.658228</td>\n",
       "    </tr>\n",
       "    <tr>\n",
       "      <th>15</th>\n",
       "      <td>Saint-Hilaire-Saint-Mesmin</td>\n",
       "      <td>45282</td>\n",
       "      <td>1396.621821</td>\n",
       "    </tr>\n",
       "    <tr>\n",
       "      <th>16</th>\n",
       "      <td>Saint-Jean-de-Braye</td>\n",
       "      <td>45284</td>\n",
       "      <td>9720.479984</td>\n",
       "    </tr>\n",
       "    <tr>\n",
       "      <th>17</th>\n",
       "      <td>Saint-Jean-de-la-Ruelle</td>\n",
       "      <td>45285</td>\n",
       "      <td>7618.859184</td>\n",
       "    </tr>\n",
       "    <tr>\n",
       "      <th>18</th>\n",
       "      <td>Saint-Jean-le-Blanc</td>\n",
       "      <td>45286</td>\n",
       "      <td>4555.325603</td>\n",
       "    </tr>\n",
       "    <tr>\n",
       "      <th>19</th>\n",
       "      <td>Saint-Pryvé-Saint-Mesmin</td>\n",
       "      <td>45298</td>\n",
       "      <td>2622.489068</td>\n",
       "    </tr>\n",
       "    <tr>\n",
       "      <th>20</th>\n",
       "      <td>Saran</td>\n",
       "      <td>45302</td>\n",
       "      <td>6802.029392</td>\n",
       "    </tr>\n",
       "    <tr>\n",
       "      <th>21</th>\n",
       "      <td>Semoy</td>\n",
       "      <td>45308</td>\n",
       "      <td>1314.340574</td>\n",
       "    </tr>\n",
       "  </tbody>\n",
       "</table>\n",
       "</div>"
      ],
      "text/plain": [
       "                        LIBCOM  Code INSEE         NBLOG\n",
       "0            Boigny-sur-Bionne       45034    908.530491\n",
       "1                          Bou       45043    441.566045\n",
       "2                     Chanteau       45072    571.000000\n",
       "3                        Chécy       45089   3669.305346\n",
       "4                     Combleux       45100    264.931237\n",
       "5           Fleury-les-Aubrais       45147   9835.620763\n",
       "6                        Ingré       45169   3813.988055\n",
       "7     La Chapelle-Saint-Mesmin       45075   4611.100671\n",
       "8                       Mardié       45194   1191.042927\n",
       "9           Marigny-les-Usages       45197    613.500684\n",
       "10                      Olivet       45232  11400.017383\n",
       "11                     Orléans       45234  66027.413027\n",
       "12                       Ormes       45235   1606.809810\n",
       "13            Saint-Cyr-en-Val       45272   1552.000000\n",
       "14          Saint-Denis-en-Val       45274   3178.658228\n",
       "15  Saint-Hilaire-Saint-Mesmin       45282   1396.621821\n",
       "16         Saint-Jean-de-Braye       45284   9720.479984\n",
       "17     Saint-Jean-de-la-Ruelle       45285   7618.859184\n",
       "18         Saint-Jean-le-Blanc       45286   4555.325603\n",
       "19    Saint-Pryvé-Saint-Mesmin       45298   2622.489068\n",
       "20                       Saran       45302   6802.029392\n",
       "21                       Semoy       45308   1314.340574"
      ]
     },
     "execution_count": 9,
     "metadata": {},
     "output_type": "execute_result"
    }
   ],
   "source": [
    "log = log.rename(columns = {'COM':'Code INSEE','P17_LOG':'NBLOG'})"
   ]
  },
  {
   "cell_type": "markdown",
   "metadata": {},
   "source": [
    "* **Création du dataframe et calculs**"
   ]
  },
  {
   "cell_type": "markdown",
   "metadata": {},
   "source": [
    "Le dataframe est créé à partir de la fonction '.groupby' sur les codes Insee des communes et la fonction '.sum()' qui additionne les valeurs de la même condition commune."
   ]
  },
  {
   "cell_type": "code",
   "execution_count": 10,
   "metadata": {
    "scrolled": true
   },
   "outputs": [
    {
     "name": "stderr",
     "output_type": "stream",
     "text": [
      "<ipython-input-10-43f1c83a4d66>:1: FutureWarning: Indexing with multiple keys (implicitly converted to a tuple of keys) will be deprecated, use a list instead.\n",
      "  table = ftth.groupby(['Code INSEE'])['Logements raccordables','Commune'].sum()\n"
     ]
    }
   ],
   "source": [
    "table = ftth.groupby(['Code INSEE'])['Logements raccordables','Commune'].sum()"
   ]
  },
  {
   "cell_type": "markdown",
   "metadata": {},
   "source": [
    "Le nombre total de logement par commune est joint à la table groupant le nombre total de logement raccordable à la fibre par commune. Cette jointure permet de calculer la proportion de logement raccordable à la fibre par commune."
   ]
  },
  {
   "cell_type": "code",
   "execution_count": 14,
   "metadata": {},
   "outputs": [],
   "source": [
    "ftth_com = table.merge(log, on=['Code INSEE'])"
   ]
  },
  {
   "cell_type": "code",
   "execution_count": 15,
   "metadata": {
    "collapsed": true
   },
   "outputs": [
    {
     "data": {
      "text/html": [
       "<div>\n",
       "<style scoped>\n",
       "    .dataframe tbody tr th:only-of-type {\n",
       "        vertical-align: middle;\n",
       "    }\n",
       "\n",
       "    .dataframe tbody tr th {\n",
       "        vertical-align: top;\n",
       "    }\n",
       "\n",
       "    .dataframe thead th {\n",
       "        text-align: right;\n",
       "    }\n",
       "</style>\n",
       "<table border=\"1\" class=\"dataframe\">\n",
       "  <thead>\n",
       "    <tr style=\"text-align: right;\">\n",
       "      <th></th>\n",
       "      <th>Code INSEE</th>\n",
       "      <th>Logements raccordables</th>\n",
       "      <th>LIBCOM</th>\n",
       "      <th>NBLOG</th>\n",
       "      <th>Logements raccordables / commune</th>\n",
       "    </tr>\n",
       "  </thead>\n",
       "  <tbody>\n",
       "    <tr>\n",
       "      <th>0</th>\n",
       "      <td>45034</td>\n",
       "      <td>847</td>\n",
       "      <td>Boigny-sur-Bionne</td>\n",
       "      <td>908.530491</td>\n",
       "      <td>0.932275</td>\n",
       "    </tr>\n",
       "    <tr>\n",
       "      <th>1</th>\n",
       "      <td>45043</td>\n",
       "      <td>448</td>\n",
       "      <td>Bou</td>\n",
       "      <td>441.566045</td>\n",
       "      <td>1.014571</td>\n",
       "    </tr>\n",
       "    <tr>\n",
       "      <th>2</th>\n",
       "      <td>45072</td>\n",
       "      <td>513</td>\n",
       "      <td>Chanteau</td>\n",
       "      <td>571.000000</td>\n",
       "      <td>0.898424</td>\n",
       "    </tr>\n",
       "    <tr>\n",
       "      <th>3</th>\n",
       "      <td>45075</td>\n",
       "      <td>4670</td>\n",
       "      <td>La Chapelle-Saint-Mesmin</td>\n",
       "      <td>4611.100671</td>\n",
       "      <td>1.012773</td>\n",
       "    </tr>\n",
       "    <tr>\n",
       "      <th>4</th>\n",
       "      <td>45089</td>\n",
       "      <td>3907</td>\n",
       "      <td>Chécy</td>\n",
       "      <td>3669.305346</td>\n",
       "      <td>1.064779</td>\n",
       "    </tr>\n",
       "    <tr>\n",
       "      <th>5</th>\n",
       "      <td>45100</td>\n",
       "      <td>251</td>\n",
       "      <td>Combleux</td>\n",
       "      <td>264.931237</td>\n",
       "      <td>0.947416</td>\n",
       "    </tr>\n",
       "    <tr>\n",
       "      <th>6</th>\n",
       "      <td>45147</td>\n",
       "      <td>9960</td>\n",
       "      <td>Fleury-les-Aubrais</td>\n",
       "      <td>9835.620763</td>\n",
       "      <td>1.012646</td>\n",
       "    </tr>\n",
       "    <tr>\n",
       "      <th>7</th>\n",
       "      <td>45169</td>\n",
       "      <td>3356</td>\n",
       "      <td>Ingré</td>\n",
       "      <td>3813.988055</td>\n",
       "      <td>0.879919</td>\n",
       "    </tr>\n",
       "    <tr>\n",
       "      <th>8</th>\n",
       "      <td>45194</td>\n",
       "      <td>1097</td>\n",
       "      <td>Mardié</td>\n",
       "      <td>1191.042927</td>\n",
       "      <td>0.921042</td>\n",
       "    </tr>\n",
       "    <tr>\n",
       "      <th>9</th>\n",
       "      <td>45197</td>\n",
       "      <td>649</td>\n",
       "      <td>Marigny-les-Usages</td>\n",
       "      <td>613.500684</td>\n",
       "      <td>1.057864</td>\n",
       "    </tr>\n",
       "    <tr>\n",
       "      <th>10</th>\n",
       "      <td>45232</td>\n",
       "      <td>11441</td>\n",
       "      <td>Olivet</td>\n",
       "      <td>11400.017383</td>\n",
       "      <td>1.003595</td>\n",
       "    </tr>\n",
       "    <tr>\n",
       "      <th>11</th>\n",
       "      <td>45234</td>\n",
       "      <td>19145</td>\n",
       "      <td>Orléans</td>\n",
       "      <td>66027.413027</td>\n",
       "      <td>0.289955</td>\n",
       "    </tr>\n",
       "    <tr>\n",
       "      <th>12</th>\n",
       "      <td>45235</td>\n",
       "      <td>1434</td>\n",
       "      <td>Ormes</td>\n",
       "      <td>1606.809810</td>\n",
       "      <td>0.892452</td>\n",
       "    </tr>\n",
       "    <tr>\n",
       "      <th>13</th>\n",
       "      <td>45272</td>\n",
       "      <td>1486</td>\n",
       "      <td>Saint-Cyr-en-Val</td>\n",
       "      <td>1552.000000</td>\n",
       "      <td>0.957474</td>\n",
       "    </tr>\n",
       "    <tr>\n",
       "      <th>14</th>\n",
       "      <td>45274</td>\n",
       "      <td>3062</td>\n",
       "      <td>Saint-Denis-en-Val</td>\n",
       "      <td>3178.658228</td>\n",
       "      <td>0.963300</td>\n",
       "    </tr>\n",
       "    <tr>\n",
       "      <th>15</th>\n",
       "      <td>45282</td>\n",
       "      <td>928</td>\n",
       "      <td>Saint-Hilaire-Saint-Mesmin</td>\n",
       "      <td>1396.621821</td>\n",
       "      <td>0.664460</td>\n",
       "    </tr>\n",
       "    <tr>\n",
       "      <th>16</th>\n",
       "      <td>45284</td>\n",
       "      <td>4217</td>\n",
       "      <td>Saint-Jean-de-Braye</td>\n",
       "      <td>9720.479984</td>\n",
       "      <td>0.433826</td>\n",
       "    </tr>\n",
       "    <tr>\n",
       "      <th>17</th>\n",
       "      <td>45285</td>\n",
       "      <td>6207</td>\n",
       "      <td>Saint-Jean-de-la-Ruelle</td>\n",
       "      <td>7618.859184</td>\n",
       "      <td>0.814689</td>\n",
       "    </tr>\n",
       "    <tr>\n",
       "      <th>18</th>\n",
       "      <td>45286</td>\n",
       "      <td>3685</td>\n",
       "      <td>Saint-Jean-le-Blanc</td>\n",
       "      <td>4555.325603</td>\n",
       "      <td>0.808943</td>\n",
       "    </tr>\n",
       "    <tr>\n",
       "      <th>19</th>\n",
       "      <td>45298</td>\n",
       "      <td>2227</td>\n",
       "      <td>Saint-Pryvé-Saint-Mesmin</td>\n",
       "      <td>2622.489068</td>\n",
       "      <td>0.849193</td>\n",
       "    </tr>\n",
       "    <tr>\n",
       "      <th>20</th>\n",
       "      <td>45302</td>\n",
       "      <td>5973</td>\n",
       "      <td>Saran</td>\n",
       "      <td>6802.029392</td>\n",
       "      <td>0.878120</td>\n",
       "    </tr>\n",
       "    <tr>\n",
       "      <th>21</th>\n",
       "      <td>45308</td>\n",
       "      <td>1114</td>\n",
       "      <td>Semoy</td>\n",
       "      <td>1314.340574</td>\n",
       "      <td>0.847573</td>\n",
       "    </tr>\n",
       "  </tbody>\n",
       "</table>\n",
       "</div>"
      ],
      "text/plain": [
       "    Code INSEE  Logements raccordables                      LIBCOM  \\\n",
       "0        45034                     847           Boigny-sur-Bionne   \n",
       "1        45043                     448                         Bou   \n",
       "2        45072                     513                    Chanteau   \n",
       "3        45075                    4670    La Chapelle-Saint-Mesmin   \n",
       "4        45089                    3907                       Chécy   \n",
       "5        45100                     251                    Combleux   \n",
       "6        45147                    9960          Fleury-les-Aubrais   \n",
       "7        45169                    3356                       Ingré   \n",
       "8        45194                    1097                      Mardié   \n",
       "9        45197                     649          Marigny-les-Usages   \n",
       "10       45232                   11441                      Olivet   \n",
       "11       45234                   19145                     Orléans   \n",
       "12       45235                    1434                       Ormes   \n",
       "13       45272                    1486            Saint-Cyr-en-Val   \n",
       "14       45274                    3062          Saint-Denis-en-Val   \n",
       "15       45282                     928  Saint-Hilaire-Saint-Mesmin   \n",
       "16       45284                    4217         Saint-Jean-de-Braye   \n",
       "17       45285                    6207     Saint-Jean-de-la-Ruelle   \n",
       "18       45286                    3685         Saint-Jean-le-Blanc   \n",
       "19       45298                    2227    Saint-Pryvé-Saint-Mesmin   \n",
       "20       45302                    5973                       Saran   \n",
       "21       45308                    1114                       Semoy   \n",
       "\n",
       "           NBLOG  Logements raccordables / commune  \n",
       "0     908.530491                          0.932275  \n",
       "1     441.566045                          1.014571  \n",
       "2     571.000000                          0.898424  \n",
       "3    4611.100671                          1.012773  \n",
       "4    3669.305346                          1.064779  \n",
       "5     264.931237                          0.947416  \n",
       "6    9835.620763                          1.012646  \n",
       "7    3813.988055                          0.879919  \n",
       "8    1191.042927                          0.921042  \n",
       "9     613.500684                          1.057864  \n",
       "10  11400.017383                          1.003595  \n",
       "11  66027.413027                          0.289955  \n",
       "12   1606.809810                          0.892452  \n",
       "13   1552.000000                          0.957474  \n",
       "14   3178.658228                          0.963300  \n",
       "15   1396.621821                          0.664460  \n",
       "16   9720.479984                          0.433826  \n",
       "17   7618.859184                          0.814689  \n",
       "18   4555.325603                          0.808943  \n",
       "19   2622.489068                          0.849193  \n",
       "20   6802.029392                          0.878120  \n",
       "21   1314.340574                          0.847573  "
      ]
     },
     "execution_count": 15,
     "metadata": {},
     "output_type": "execute_result"
    }
   ],
   "source": [
    "ftth_com['Logements raccordables / commune']= ftth_com['Logements raccordables']/ftth_com['NBLOG']"
   ]
  },
  {
   "cell_type": "markdown",
   "metadata": {},
   "source": [
    "Pour les proportions de logement qui dépassent les 100%, les valeurs sont ramenées au maximum 100%. Cette erreur est due à la différence des années des données. Le nombre de logement par commune date de 2017, le nombre de logement raccordable par commune date de 2018. Les données de logements raccordables les plus récentes possibles ont été jointes sans prendre les données les plus récentes qui datent de 2020 pour éviter un trop grand écart entre les années des données. Cependant, il y a une trop forte extension entre le déploiement de lfibre de 2017 et 2018 pour pouvoir prendre en compte les données de 2017 sur la fibre, beaucoup trop obsolète."
   ]
  },
  {
   "cell_type": "code",
   "execution_count": 27,
   "metadata": {},
   "outputs": [],
   "source": [
    "a = np.array(ftth_com['Logements raccordables / commune'].values.tolist())"
   ]
  },
  {
   "cell_type": "code",
   "execution_count": 28,
   "metadata": {},
   "outputs": [],
   "source": [
    "ftth_com['Logements raccordables / commune'] = np.where(a > 0.9999, 1.0, a).tolist()"
   ]
  },
  {
   "cell_type": "markdown",
   "metadata": {},
   "source": [
    "* **Export**"
   ]
  },
  {
   "cell_type": "markdown",
   "metadata": {},
   "source": [
    "Une fois ces calculs effectués, le dataframe est exporté en format .csv et publié sur Open Data Orléans Métropole(Taux de logement raccordables à la fibre par commune_Orléans métropole)."
   ]
  },
  {
   "cell_type": "code",
   "execution_count": 30,
   "metadata": {},
   "outputs": [],
   "source": [
    "ftth_com.to_csv(r\"chemin d'accès\\deploiement_ftth_om.csv\")"
   ]
  },
  {
   "cell_type": "markdown",
   "metadata": {},
   "source": [
    "#### [*Données sur la géolocalisation des antennes 2G, 3G et 4G sur Orléans métropole*](#sommaire)<a class=\"anchor\" id=\"12\"></a>"
   ]
  },
  {
   "cell_type": "markdown",
   "metadata": {},
   "source": [
    "A partir des données récupérées sur monresaumobile (ARCEP), ce jeu de données a été préalablement filtré sur les 22 communes d'Orléans puis le processeur de jointure géographique (récupérer les divisions administratives) sur open data soft a permis de récupérer les codes des iris à partir des coordonnées géographiques.\n",
    "A partir de l'API (V2 bêta),une aggrégation 'count()as' est réalisée (get /{source}/datasets/{dataset_id}/aggregate)pour calculer le nombre d'antenne par commune (group_by)\n",
    "\n",
    "Clé primaire: Iris (code_iris)\n",
    "\n",
    "Ce jeu de données est ensuite publié sur open data orléans métropole et sera mis à jour tous les mois."
   ]
  },
  {
   "cell_type": "markdown",
   "metadata": {},
   "source": [
    "#### [*Données de recensement des équipements sur Orléans métropole*](#sommaire)<a class=\"anchor\" id=\"13\"></a>"
   ]
  },
  {
   "cell_type": "markdown",
   "metadata": {},
   "source": [
    "Ces données contiennent seulement les équipements qui nous intéressent pour l'étude de fragilité (cf. tableau des indicateurs ci dessus). Les équipements sociaux manquants ont été rajoutés à partir des informations de TOPOS (bde2). Ces données vont permettre de calculer le nombre d'équipement par Iris. Les équipements sélectionnés pour l'étude de fragilité sont énumérés dans le tableau des indicateurs. Ils ont été choisis selon l'étude de MEDNUM.\n",
    "\n",
    "Clé primaire: Iris (IRIS)"
   ]
  },
  {
   "cell_type": "markdown",
   "metadata": {},
   "source": [
    "* **Import du jeu de donnée**"
   ]
  },
  {
   "cell_type": "code",
   "execution_count": null,
   "metadata": {},
   "outputs": [],
   "source": [
    "bde1=pd.read_csv(r\"chemin d'accès\\base-permanente-des-equipements-ensemble-geolocalisee-orleans-metropole_modif.csv\", delimiter=';')\n",
    "bde2=pd.read_excel(r\"chemin d'accès\\equipement sociaux manquants.xlsx\")"
   ]
  },
  {
   "cell_type": "markdown",
   "metadata": {},
   "source": [
    "* **Concaténation des dataframe et sélection des équipements**"
   ]
  },
  {
   "cell_type": "code",
   "execution_count": null,
   "metadata": {},
   "outputs": [],
   "source": [
    "bde = pd.concat([bde1, bde2])\n",
    "bde_om=bde[(bde['code_com']==45034)|(bde['code_com']==45043)|(bde['code_com']==45072)|(bde['code_com']==45075)|(bde['code_com']==45089)|(bde['code_com']==45100)|(bde['code_com']==45147)|(bde['code_com']==45169)|(bde['code_com']==45194)|(bde['code_com']==45197)|(bde['code_com']==45232)|(bde['code_com']==45234)|(bde['code_com']==45235)|(bde['code_com']==45272)|(bde['code_com']==45274)|(bde['code_com']==45282)|(bde['code_com']==45284)|(bde['code_com']==45285)|(bde['code_com']==45286)|(bde['code_com']==45298)|(bde['code_com']==45302)|(bde['code_com']==45308)]\n",
    "bde_frag = bde_om[(bde_om['description']=='Bibliothèque')|(bde_om['description']==\"Personnes âgées\\xa0: services d'aide\")|(bde_om['description']==\"Adultes handicapés\\xa0: services d'aide\")|(bde_om['description']==\"Autres établissements pour adultes et familles en difficulté\")|(bde_om['description']==\"DRFiP (Direction régionale des Finances publiques)\")|(bde_om['description']==\"Police\")|(bde_om['description']==\"Tribunal de commerce (TCO)\")|(bde_om['description']==\"Gendarmerie\")|(bde_om['description']==\"Conseil de prud'hommes (CPH)\")|(bde_om['description']==\"Cour d'appel (CA)\")|(bde_om['description']==\"Tribunal d'instance (TI)\")|(bde_om['description']==\"Réseau de proximité Pôle emploi\")|(bde_om['description']==\"Conseil départemental d'accès au droit (CDAD)\")|(bde_om['description']==\"GRETA\")|(bde_om['description']==\"Maison de justice et du droit\")|(bde_om['description']==\"Tribunal de grande instance (TGI)\")|(bde_om['description'] == 'Bureau de poste')|(bde_om['description'] == 'CAF')|(bde_om['description'] == 'Préfecture')|(bde_om['description'] == 'Mairie')]\n",
    "bde_frag = bde_frag.drop(columns = ['an','type','qualite_geocodage','nom_dep','nom_EPCI','nom_com','code_ISO',])"
   ]
  },
  {
   "cell_type": "markdown",
   "metadata": {},
   "source": [
    "* **Homogénéisation des codes Iris**"
   ]
  },
  {
   "cell_type": "markdown",
   "metadata": {},
   "source": [
    "Les codes Iris des communes non irisées correspondent aux codes Insee des communes, suivis de 0000 (Exemple: Saint Cyr en Val est une commune non irisée de code Insee '45272'. Ce code est repris pour le code Iris alors qu'il devrait être '452720000'. La fonction ci-dessous permet de le modifier avec la bonne nomenclature). Pour corriger les codes Iris des communes Iris, qui, dans ce document, n'ont pas été écrits selon la nomenclature précédente, mais remplacés par les codes des communes, la fonction suivante a été appliquée sur la colonne des Iris."
   ]
  },
  {
   "cell_type": "code",
   "execution_count": null,
   "metadata": {},
   "outputs": [],
   "source": [
    "def multiply(x):\n",
    "    if x < 1000000:\n",
    "        return x*10000\n",
    "    else:\n",
    "        return x\n",
    "bde_frag['IRIS'] = bde_frag.apply(lambda x: multiply(x.IRIS), axis=1)"
   ]
  },
  {
   "cell_type": "markdown",
   "metadata": {},
   "source": [
    "* **Création du dataframe et calculs**"
   ]
  },
  {
   "cell_type": "code",
   "execution_count": null,
   "metadata": {},
   "outputs": [],
   "source": [
    "table = bde_frag.groupby(['code_com','IRIS'])['categorie','REG'].count()\n",
    "table.drop(['REG'],'columns',inplace = True)\n",
    "table.rename(columns = {'categorie':'Nombre equipement'})"
   ]
  },
  {
   "cell_type": "markdown",
   "metadata": {},
   "source": [
    "* **Export**"
   ]
  },
  {
   "cell_type": "markdown",
   "metadata": {},
   "source": [
    "Le dataframe est exporté au format .csv et publié sur Open Data Orléans Métropole(Nombre d'équipements par IRIS_Orléans Métropole_fragilité numérique_2019)."
   ]
  },
  {
   "cell_type": "code",
   "execution_count": null,
   "metadata": {},
   "outputs": [],
   "source": [
    "table.to_csv (r\"chemin d'accès\\nombre_equipement_orleans_metropole_2019.csv\", index = True, header=True)"
   ]
  },
  {
   "cell_type": "markdown",
   "metadata": {},
   "source": [
    "## [Calcul des indices de fragilité numérique](#sommaire)<a class=\"anchor\" id=\"14\"></a>"
   ]
  },
  {
   "cell_type": "markdown",
   "metadata": {},
   "source": [
    "### [Regroupement des jeux de données](#sommaire)<a class=\"anchor\" id=\"15\"></a>"
   ]
  },
  {
   "cell_type": "markdown",
   "metadata": {},
   "source": [
    "Les jeux de données énumérés dans la parties précédentes ont été regroupés sous un seul jeu de données à l'aide des processeurs de jointure de Open Data Orléans Métropole. Seules 17 communes sur 22 sont renseignées pour l'année 2017 du fait du déroulement des recensements expliqué dans la partie **'Collecte et extraction à partir des données brutes'**."
   ]
  },
  {
   "cell_type": "markdown",
   "metadata": {},
   "source": [
    "* **Import du jeu de données**"
   ]
  },
  {
   "cell_type": "markdown",
   "metadata": {},
   "source": [
    "Le jeu de données est directement importé depuis la plateforme Open Data Orléans Métropole avec l'url ci-dessous."
   ]
  },
  {
   "cell_type": "code",
   "execution_count": 59,
   "metadata": {},
   "outputs": [],
   "source": [
    "indic = pd.read_csv('https://data.orleans-metropole.fr/explore/dataset/donnees-calcul-indicateur-fragilite-numerique-orleans-metropole/download/?format=csv&timezone=Europe/Berlin&lang=fr&use_labels_for_header=true&csv_separator=%3B', delimiter = ';')"
   ]
  },
  {
   "cell_type": "markdown",
   "metadata": {},
   "source": [
    "* **Préparation des données**"
   ]
  },
  {
   "cell_type": "markdown",
   "metadata": {},
   "source": [
    "Pour faciliter les codes et éviter les apostrophes ou tout autre caractère qui viendrait déranger le code, les noms des colonnes 'à risque' sont renommées."
   ]
  },
  {
   "cell_type": "code",
   "execution_count": 61,
   "metadata": {},
   "outputs": [],
   "source": [
    "indic = indic.rename(columns={\"Nombre d'antennes\":\"couverture_mobile\", 'Tx pauvreté':'Tx_pauvre', 'Logements raccordables / commune':'Taux logements raccordables'})"
   ]
  },
  {
   "cell_type": "markdown",
   "metadata": {},
   "source": [
    "Pour les équipements (antennes, services publics, fibres) et le nombre de personnes couverte par les minimas sociaux, les NaN sont remplacés par 0 car on estime que si la valeur est manquante, c'est qu'il n'y a pas d'équipement à cet endroit. Le remplacement est effectué à l'aide de la fonction suivante:"
   ]
  },
  {
   "cell_type": "code",
   "execution_count": 62,
   "metadata": {},
   "outputs": [],
   "source": [
    "indic_na_zero = indic[[\"couverture_mobile\",'Taux logements raccordables','NBequip', 'PERCOU']]\n",
    "for l in indic_na_zero:\n",
    "    newcol = l + 'bis'\n",
    "    indic[newcol] = indic[l].fillna(0)"
   ]
  },
  {
   "cell_type": "markdown",
   "metadata": {},
   "source": [
    "Pour les autres variables (ex: taux de pauvreté), les valeurs manquantes sont remplacés par la moyenne des 17 communes (cf. MEDNUM qui avait remplacé par les moyennes régionales). Le remplacement est effectué à l'aide de la fonction suivante:"
   ]
  },
  {
   "cell_type": "code",
   "execution_count": 64,
   "metadata": {},
   "outputs": [],
   "source": [
    "for i in indic.columns[indic.isnull().any(axis=0)]:\n",
    "    indic[i].fillna(indic[i].mean(),inplace=True)"
   ]
  },
  {
   "cell_type": "markdown",
   "metadata": {},
   "source": [
    "Le nombre d'équipement disponible par individu est calculé en divisant le nombre d'équipement disponible par IRIS par le nombre d'habitant de l'IRIS."
   ]
  },
  {
   "cell_type": "code",
   "execution_count": 65,
   "metadata": {},
   "outputs": [],
   "source": [
    "indic['equip_ind']= indic['NBequipbis']/indic['POPLEG']"
   ]
  },
  {
   "cell_type": "markdown",
   "metadata": {},
   "source": [
    "Le nombre de personnes couvertes par les minimas sociaux est transformé en pourcentage de  la population de la commune. Pour cela une colonne du nombre d'habitant par commune est ajoutée."
   ]
  },
  {
   "cell_type": "code",
   "execution_count": 66,
   "metadata": {
    "collapsed": true
   },
   "outputs": [
    {
     "name": "stderr",
     "output_type": "stream",
     "text": [
      "<ipython-input-66-9e9dd2a66f6b>:1: FutureWarning: Indexing with multiple keys (implicitly converted to a tuple of keys) will be deprecated, use a list instead.\n",
      "  popcom = indic.groupby(['depcom'])['POPLEG', 'iris'].sum()\n"
     ]
    },
    {
     "data": {
      "text/html": [
       "<div>\n",
       "<style scoped>\n",
       "    .dataframe tbody tr th:only-of-type {\n",
       "        vertical-align: middle;\n",
       "    }\n",
       "\n",
       "    .dataframe tbody tr th {\n",
       "        vertical-align: top;\n",
       "    }\n",
       "\n",
       "    .dataframe thead th {\n",
       "        text-align: right;\n",
       "    }\n",
       "</style>\n",
       "<table border=\"1\" class=\"dataframe\">\n",
       "  <thead>\n",
       "    <tr style=\"text-align: right;\">\n",
       "      <th></th>\n",
       "      <th>POPLEG</th>\n",
       "      <th>iris</th>\n",
       "    </tr>\n",
       "    <tr>\n",
       "      <th>depcom</th>\n",
       "      <th></th>\n",
       "      <th></th>\n",
       "    </tr>\n",
       "  </thead>\n",
       "  <tbody>\n",
       "    <tr>\n",
       "      <th>45075</th>\n",
       "      <td>2032</td>\n",
       "      <td>1803000410</td>\n",
       "    </tr>\n",
       "    <tr>\n",
       "      <th>45089</th>\n",
       "      <td>1726</td>\n",
       "      <td>1352670306</td>\n",
       "    </tr>\n",
       "    <tr>\n",
       "      <th>45147</th>\n",
       "      <td>8275</td>\n",
       "      <td>4063232216</td>\n",
       "    </tr>\n",
       "    <tr>\n",
       "      <th>45169</th>\n",
       "      <td>1888</td>\n",
       "      <td>1806760410</td>\n",
       "    </tr>\n",
       "    <tr>\n",
       "      <th>45197</th>\n",
       "      <td>2431</td>\n",
       "      <td>451970000</td>\n",
       "    </tr>\n",
       "    <tr>\n",
       "      <th>45232</th>\n",
       "      <td>7965</td>\n",
       "      <td>4070881820</td>\n",
       "    </tr>\n",
       "    <tr>\n",
       "      <th>45234</th>\n",
       "      <td>44183</td>\n",
       "      <td>20355350984</td>\n",
       "    </tr>\n",
       "    <tr>\n",
       "      <th>45235</th>\n",
       "      <td>828</td>\n",
       "      <td>452350000</td>\n",
       "    </tr>\n",
       "    <tr>\n",
       "      <th>45272</th>\n",
       "      <td>3458</td>\n",
       "      <td>452720000</td>\n",
       "    </tr>\n",
       "    <tr>\n",
       "      <th>45274</th>\n",
       "      <td>1497</td>\n",
       "      <td>1358220306</td>\n",
       "    </tr>\n",
       "    <tr>\n",
       "      <th>45282</th>\n",
       "      <td>615</td>\n",
       "      <td>452820000</td>\n",
       "    </tr>\n",
       "    <tr>\n",
       "      <th>45284</th>\n",
       "      <td>7813</td>\n",
       "      <td>4075561920</td>\n",
       "    </tr>\n",
       "    <tr>\n",
       "      <th>45285</th>\n",
       "      <td>6188</td>\n",
       "      <td>3622800836</td>\n",
       "    </tr>\n",
       "    <tr>\n",
       "      <th>45286</th>\n",
       "      <td>1724</td>\n",
       "      <td>1811440410</td>\n",
       "    </tr>\n",
       "    <tr>\n",
       "      <th>45298</th>\n",
       "      <td>1212</td>\n",
       "      <td>905960203</td>\n",
       "    </tr>\n",
       "    <tr>\n",
       "      <th>45302</th>\n",
       "      <td>6297</td>\n",
       "      <td>2718120621</td>\n",
       "    </tr>\n",
       "    <tr>\n",
       "      <th>45308</th>\n",
       "      <td>1910</td>\n",
       "      <td>453080000</td>\n",
       "    </tr>\n",
       "  </tbody>\n",
       "</table>\n",
       "</div>"
      ],
      "text/plain": [
       "        POPLEG         iris\n",
       "depcom                     \n",
       "45075     2032   1803000410\n",
       "45089     1726   1352670306\n",
       "45147     8275   4063232216\n",
       "45169     1888   1806760410\n",
       "45197     2431    451970000\n",
       "45232     7965   4070881820\n",
       "45234    44183  20355350984\n",
       "45235      828    452350000\n",
       "45272     3458    452720000\n",
       "45274     1497   1358220306\n",
       "45282      615    452820000\n",
       "45284     7813   4075561920\n",
       "45285     6188   3622800836\n",
       "45286     1724   1811440410\n",
       "45298     1212    905960203\n",
       "45302     6297   2718120621\n",
       "45308     1910    453080000"
      ]
     },
     "execution_count": 66,
     "metadata": {},
     "output_type": "execute_result"
    }
   ],
   "source": [
    "popcom = indic.groupby(['depcom'])['POPLEG', 'iris'].sum()"
   ]
  },
  {
   "cell_type": "code",
   "execution_count": 67,
   "metadata": {},
   "outputs": [],
   "source": [
    "indic['taux_percou'] = indic['PERCOUbis']/indic['POPLEG']\n",
    "popcom = popcom.drop(columns = ['iris'])\n",
    "popcom = popcom.rename(columns={'POPLEG':'POPCOM'})"
   ]
  },
  {
   "cell_type": "code",
   "execution_count": 69,
   "metadata": {},
   "outputs": [],
   "source": [
    "indic = indic.merge(popcom, how='inner', on='depcom')\n",
    "indic = indic.rename(columns={'POPCOM_y':'POPCOM'})"
   ]
  },
  {
   "cell_type": "code",
   "execution_count": 48,
   "metadata": {},
   "outputs": [],
   "source": [
    "indic['taux_percou'] = indic['PERCOUbis']/indic['POPCOM']"
   ]
  },
  {
   "cell_type": "markdown",
   "metadata": {},
   "source": [
    "La couverture mobile est estimée par rapport à la présence d'au moins une antenne mobile sur la commune. Ainsi, seules des valeurs sont possibles pour cette variable: si il y a au moins une antenne, 100% sinon 0%."
   ]
  },
  {
   "cell_type": "code",
   "execution_count": 71,
   "metadata": {},
   "outputs": [],
   "source": [
    "indic.loc[(indic.couverture_mobilebis > 0), 'couverture_mobilebis']=100"
   ]
  },
  {
   "cell_type": "markdown",
   "metadata": {},
   "source": [
    "La non couverture mobile est estimée à partir des résultats précédents de couverture."
   ]
  },
  {
   "cell_type": "code",
   "execution_count": 72,
   "metadata": {},
   "outputs": [],
   "source": [
    "indic['non_couv_mobile']= 100-indic['couverture_mobilebis']"
   ]
  },
  {
   "cell_type": "markdown",
   "metadata": {},
   "source": [
    "Les variables sont ensuite séparées en deux groupes. Celles qui seront comparées à la moyenne de chaque commune et celles qui seront comparées à la moyenne de chaque Iris. \n",
    "Un dataframe regroupant les moyennes des variables par commune est donc créé."
   ]
  },
  {
   "cell_type": "code",
   "execution_count": 78,
   "metadata": {},
   "outputs": [],
   "source": [
    "group = indic[['depcom','Tx_pauvre','non_couv_mobile','Taux logements raccordablesbis','taux_percou']]\n",
    "com = group.groupby(['depcom']).mean()"
   ]
  },
  {
   "cell_type": "markdown",
   "metadata": {},
   "source": [
    "### [Les étapes du calcul](#sommaire)<a class=\"anchor\" id=\"16\"></a>"
   ]
  },
  {
   "cell_type": "markdown",
   "metadata": {},
   "source": [
    "* **Etape 1:** attribuer des points et calculer le score de chaque variable à partir du coefficient multiplicateur en comparant à la moyenne (de la commune ou de l'Iris)"
   ]
  },
  {
   "cell_type": "markdown",
   "metadata": {},
   "source": [
    "Pour les variables comparées à la moyenne des Iris:"
   ]
  },
  {
   "cell_type": "code",
   "execution_count": 76,
   "metadata": {},
   "outputs": [],
   "source": [
    "listcol1 = ['PartNBMONOFAM', 'PartNB15_29',\n",
    "       'PartNB65+', 'PartNBIMMI', 'PartNBMEN1P', 'PartNBCHOM15_64',\n",
    "       'PartNB15NSCONDIPL','equip_ind']\n",
    "for l in listcol1:\n",
    "    newcol = \"pt_\" + l \n",
    "    indic[newcol] = ((indic[l]-indic[l].mean())/indic[l].mean()+1)*100"
   ]
  },
  {
   "cell_type": "markdown",
   "metadata": {},
   "source": [
    "Pour les variables comparées à la moyenne des communes:"
   ]
  },
  {
   "cell_type": "code",
   "execution_count": 81,
   "metadata": {},
   "outputs": [],
   "source": [
    "listcol2 = ['Tx_pauvre', 'non_couv_mobile',\n",
    "       'Taux logements raccordablesbis','taux_percou']\n",
    "for l in listcol2:\n",
    "    newcol = \"pt_\" + l \n",
    "    indic[newcol] = ((indic[l]-com[l].mean())/com[l].mean()+1)*100"
   ]
  },
  {
   "cell_type": "markdown",
   "metadata": {},
   "source": [
    "Pour le revenu médian, les revenus médians des communes sont comparés au revenu médian d'Orléans Métropole qui est de 21420 euros (INSEE,2017)."
   ]
  },
  {
   "cell_type": "code",
   "execution_count": 83,
   "metadata": {},
   "outputs": [],
   "source": [
    "#Revenu médian sur Orléans métropole: 21420 euros\n",
    "m = 21420\n",
    "indic['pt_Medrev'] = ((m-indic['Medrev'])/m+1)*100"
   ]
  },
  {
   "cell_type": "markdown",
   "metadata": {},
   "source": [
    "* **Etape 2**: construire le scoring total pour un axe du modèle"
   ]
  },
  {
   "cell_type": "markdown",
   "metadata": {},
   "source": [
    "Les indicateurs de fragilité numérique sont classés selon deux problématiques: l'accès et les compétences. Les scores sont calculés à partir du regroupement des variables qui correspondent à ces problématiques. La MEDNUM a dégagé 4 axes principaux dans lesquelles classer ces variables: l'accès au numérique, l'accès à l'information, les compétences administratives, les compétences numériques.\n",
    "Les variables sont reliées à l'axe du modèle correspondant et les scores sont additionnés par axe."
   ]
  },
  {
   "cell_type": "code",
   "execution_count": 85,
   "metadata": {},
   "outputs": [],
   "source": [
    "indic['acces_numerique']= (indic['pt_Medrev']+indic['pt_Tx_pauvre']+indic['pt_non_couv_mobile']+indic['pt_Taux logements raccordablesbis'])*100/400\n",
    "indic['acces_info']= (indic['pt_PartNBMONOFAM']+ indic['pt_PartNBMEN1P']+indic['pt_equip_ind']+indic['pt_PartNBIMMI'])*100/400\n",
    "indic['competence_administrative'] = (indic['pt_PartNB15_29']+indic['pt_PartNBCHOM15_64']+indic['pt_taux_percou'])*100/300\n",
    "indic['competence_numerique'] = (indic['pt_PartNB65+']+indic['pt_PartNB15NSCONDIPL'])*100/200"
   ]
  },
  {
   "cell_type": "markdown",
   "metadata": {},
   "source": [
    "* **Etape 3**: calculer les scoring globaux"
   ]
  },
  {
   "cell_type": "code",
   "execution_count": 87,
   "metadata": {},
   "outputs": [],
   "source": [
    "indic['acces_global'] = (indic['acces_numerique']+indic['acces_info'])*100/200\n",
    "indic['competence_global'] = (indic['competence_administrative']+indic['competence_numerique'])*100/200\n",
    "indic['score_global'] = (indic['acces_global']+indic['competence_global'])*100/200"
   ]
  },
  {
   "cell_type": "code",
   "execution_count": 90,
   "metadata": {},
   "outputs": [],
   "source": [
    "indic_fragi = indic[['cantville','depcom','LIBCOM','iris','LIB_IRIS','geom', 'centroid','POPLEG','POPCOM','acces_numerique','acces_info','competence_administrative','acces_global','competence_global','score_global']]\n",
    "indic_fragi.to_csv (r\"C:\\Users\\neury\\Documents\\Python\\Sorties\\indic_fragi.csv\", index = True, header=True)"
   ]
  }
 ],
 "metadata": {
  "kernelspec": {
   "display_name": "Python 3",
   "language": "python",
   "name": "python3"
  },
  "language_info": {
   "codemirror_mode": {
    "name": "ipython",
    "version": 3
   },
   "file_extension": ".py",
   "mimetype": "text/x-python",
   "name": "python",
   "nbconvert_exporter": "python",
   "pygments_lexer": "ipython3",
   "version": "3.8.8"
  }
 },
 "nbformat": 4,
 "nbformat_minor": 4
}
